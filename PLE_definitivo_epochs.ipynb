{
 "cells": [
  {
   "cell_type": "code",
   "execution_count": 1,
   "metadata": {},
   "outputs": [
    {
     "name": "stdout",
     "output_type": "stream",
     "text": [
      "Using qt as 2D backend.\n"
     ]
    }
   ],
   "source": [
    "\n",
    "%matplotlib qt\n",
    "import mne\n",
    "import numpy as np\n",
    "import matplotlib\n",
    "# Establecer un backend interactivo, como 'Qt5Agg', 'GTK3Agg', etc.\n",
    "# Esto depende de los backends disponibles en tu sistema.\n",
    "\n",
    "import matplotlib.pyplot as plt\n",
    "\n",
    "matplotlib.use('Qt5Agg')  # Asegúrate de que este backend está instalado.\n",
    "mne.viz.set_browser_backend('qt')  # Activa el backend interactivo\n",
    "\n",
    "import pandas as pd \n",
    "import os\n",
    "import sys\n",
    "\n",
    "from mne.preprocessing import ICA, corrmap, create_ecg_epochs, create_eog_epochs\n",
    "\n",
    "from os.path import join as pathjoin\n",
    "from time import time\n",
    "\n",
    "from pathlib import Path\n",
    "\n",
    "from autoreject import AutoReject\n",
    "\n",
    "from neurodsp.spectral import compute_spectrum, trim_spectrum\n",
    "from neurodsp.plts import plot_power_spectra\n",
    "\n",
    "# Import IRASA related functions\n",
    "from neurodsp.aperiodic import compute_irasa, fit_irasa"
   ]
  },
  {
   "cell_type": "code",
   "execution_count": 2,
   "metadata": {},
   "outputs": [],
   "source": [
    "# Variables path\n",
    "layer_script = \"block\"\n",
    "\n",
    "#process=\"\"\n",
    "disco=\"g\"\n",
    "\n",
    "subj = \"S01\"\n",
    "\n",
    "#subj = sys.argv[1] ## name of participant list\n",
    "\n",
    "# Carpeta general\n",
    "datadir = Path(f\"{disco}:\\\\PROYECTO_SELF\")\n",
    "\n",
    "# #carpetas generales de datos\n",
    "brain_vision_dir = datadir /\"Data_self\"/\"Export_acw_Brain_Vision\"\n",
    "fif_data = datadir /\"Data_self\"/ \"fif_data\" \n",
    "\n",
    "\n",
    "#carpeta analysis\n",
    "output_analysis= datadir / \"output_analysis\"\n",
    "\n",
    "acw_analysis_path = output_analysis / \"acw\"\n",
    "acw_analysis_path.mkdir(parents=True, exist_ok=True)\n",
    "\n",
    "PLE_analysis_path = output_analysis / \"PLE\"\n",
    "PLE_analysis_path.mkdir(parents=True, exist_ok=True)\n",
    "\n",
    "\n",
    "# # Carpeta de preprocesado\n",
    "# output_preproc = datadir / \"output_preproc\"\n",
    "\n",
    "# preproc_path = output_preproc / f\"preproc_{layer_script}\"\n",
    "# preproc_path.mkdir(parents=True, exist_ok=True)\n",
    " \n",
    "# # Carpeta de epocas \"sucias\"\n",
    "# epochs_path = preproc_path / f\"epochs_{layer_script}\"\n",
    "# epochs_path.mkdir(parents=True, exist_ok=True) \n",
    "\n",
    "# # Carpeta de ICA\n",
    "# ICA_path = preproc_path / f\"ICA_{layer_script}\"\n",
    "# ICA_path.mkdir(parents=True, exist_ok=True)\n",
    "\n",
    "# # Épocas limpias\n",
    "# epochs_clean_path = preproc_path / f\"epochs_clean_{layer_script}\"\n",
    "# epochs_clean_path.mkdir(parents=True, exist_ok=True)\n",
    "\n",
    "# #epocas epochs\n",
    "# epochs_path = Path(preproc_path) / f\"epochs_{layer_script}\"\n",
    "# epochs_path.mkdir(parents=True, exist_ok=True)\n",
    " \n",
    "\n",
    "# # Definir la carpeta de output_source antes de usarla\n",
    "# output_source = Path(r\"g:\\MOUS_204\\output_source\")\n",
    "\n",
    "# source_path = output_source / f\"source_{layer_script}\"\n",
    "# source_path.mkdir(parents=True, exist_ok=True)\n",
    "\n",
    "# #raw_hsp es el raw con fiducials cargados\n",
    "# raw_hsp_path = source_path / f\"raw_hsp\"\n",
    "# raw_hsp_path.mkdir(parents=True, exist_ok=True)\n",
    "\n",
    "# # Carpeta de forward solution\n",
    "# fwd_path = source_path / f\"fwd\"\n",
    "# fwd_path.mkdir(parents=True, exist_ok=True)\n",
    "\n",
    "# # Carpeta de inverse solution\n",
    "# inverse_path = source_path / f\"inverse\"\n",
    "# inverse_path.mkdir(parents=True, exist_ok=True)\n",
    "\n",
    "\n",
    "# mne.utils.set_config('SUBJECTS_DIR', r'\\\\wsl$\\Ubuntu-20.04\\usr\\local\\freesurfer\\subjects', set_env=True)\n"
   ]
  },
  {
   "cell_type": "code",
   "execution_count": 5,
   "metadata": {},
   "outputs": [
    {
     "name": "stdout",
     "output_type": "stream",
     "text": [
      "Reading g:\\PROYECTO_SELF\\Data_self\\fif_data\\S01_epochs\\S01_S1 - S5-epo.fif ...\n",
      "    Found the data of interest:\n",
      "        t =       0.00 ...    9198.00 ms\n",
      "        0 CTF compensation matrices available\n",
      "Not setting metadata\n",
      "21 matching events found\n",
      "No baseline correction applied\n",
      "0 projection items activated\n"
     ]
    }
   ],
   "source": [
    "\n",
    "#epochs\n",
    "combinaciones = [\"S1 - S4\",\"S1 - S5\", \"S2 - S4\", \"S2 - S5\", \"S3 - S4\", \"S3 - S5\"]\n",
    "\n",
    "combinacion= combinaciones[1]\n",
    "\n",
    "# Obtener todos los archivos y carpetas dentro de la ruta\n",
    "subjects = list(fif_data.iterdir())\n",
    "\n",
    "# Filtrar solo los nombres de sujetos (removiendo \"_epochs\")\n",
    "subject_names = [subject.stem.replace(\"_epochs\", \"\") for subject in subjects]\n",
    "\n",
    "subj=subject_names[0]\n",
    "subj\n",
    "\n",
    "\n",
    "# # epochs_zinnen_path = epochs_clean_path / f\"{subj}_epochs_zinnen_{type_script}\"\n",
    "# # epochs_path = epochs_clean_path / f\"{subj}_epochs_{type_script}\"\n",
    "\n",
    "path_epochs= fif_data / f\"{subj}_epochs\" / f\"{subj}_{combinacion}-epo.fif\"\n",
    "\n",
    "epochs = mne.read_epochs(path_epochs) \n"
   ]
  },
  {
   "cell_type": "code",
   "execution_count": null,
   "metadata": {},
   "outputs": [
    {
     "ename": "NameError",
     "evalue": "name 'evoked' is not defined",
     "output_type": "error",
     "traceback": [
      "\u001b[1;31m---------------------------------------------------------------------------\u001b[0m",
      "\u001b[1;31mNameError\u001b[0m                                 Traceback (most recent call last)",
      "Cell \u001b[1;32mIn[4], line 15\u001b[0m\n\u001b[0;32m      1\u001b[0m \u001b[38;5;66;03m## obtener power spechtum de el objeto evoked -- esto serñía el MIXED POWER SPECTRUM\u001b[39;00m\n\u001b[0;32m      2\u001b[0m \n\u001b[0;32m      3\u001b[0m \u001b[38;5;66;03m# psds=evoked.compute_psd(method='welch', fmin=fmin, fmax=fmax, reject_by_annotation=True, n_fft = int(6 * sfreq))\u001b[39;00m\n\u001b[1;32m   (...)\u001b[0m\n\u001b[0;32m     13\u001b[0m \n\u001b[0;32m     14\u001b[0m \u001b[38;5;66;03m##def compute_psd(self, fmin=0, fmax=np.inf, tmin=None, tmax=None, proj=False)\u001b[39;00m\n\u001b[1;32m---> 15\u001b[0m array\u001b[38;5;241m=\u001b[39m\u001b[43mevoked\u001b[49m\u001b[38;5;241m.\u001b[39mget_data()\n\u001b[0;32m     16\u001b[0m sfreq\u001b[38;5;241m=\u001b[39mevoked\u001b[38;5;241m.\u001b[39minfo[\u001b[38;5;124m'\u001b[39m\u001b[38;5;124msfreq\u001b[39m\u001b[38;5;124m'\u001b[39m]\n\u001b[0;32m     17\u001b[0m fmin\u001b[38;5;241m=\u001b[39m\u001b[38;5;241m0.5\u001b[39m\n",
      "\u001b[1;31mNameError\u001b[0m: name 'evoked' is not defined"
     ]
    }
   ],
   "source": [
    "## obtener power spechtum de el objeto evoked -- esto serñía el MIXED POWER \n",
    "\n",
    "# psds=evoked.compute_psd(method='welch', fmin=fmin, fmax=fmax, reject_by_annotation=True, n_fft = int(6 * sfreq))\n",
    "# psds_all.append(psds)\n",
    "            \n",
    "# psds,freqs= mne.time_frequency.psd_array_welch(array, sfreq, fmin=0, fmax=inf, n_fft=256, n_overlap=0, \n",
    "# #                                    n_per_seg=None, n_jobs=None, average='mean', window='hamming', remove_dc=True, *, \n",
    "# #                                    output='power', verbose=None)\n",
    "\n",
    "\n",
    "\n",
    "##please note THAT THIS IS ONLY FOR EVOKED, YOU NEED TO CALCULATE IT THROUGH EPOCHS\n",
    "\n",
    "# ##def compute_psd(self, fmin=0, fmax=np.inf, tmin=None, tmax=None, proj=False)\n",
    "# array=evoked.get_data()\n",
    "# sfreq=evoked.info['sfreq']\n",
    "# fmin=0.5\n",
    "# fmax=40\n",
    "# nfft=1024 # to increase the spectral resolution, , although you can go to 4096 if you want to see more details\n",
    "# njobs=10\n",
    "\n",
    "# ##compute psd FOR WHOLE SIGNAL\n",
    "# psds,freqs= mne.time_frequency.psd_array_welch(array, sfreq, fmin=fmin, fmax=fmax, n_fft=nfft, n_jobs=njobs)\n",
    "\n"
   ]
  },
  {
   "cell_type": "code",
   "execution_count": 6,
   "metadata": {},
   "outputs": [],
   "source": [
    "def compute_ple(epochs, f_range=(0.1, 40), hset=None, thresh=None, isplot=False):\n",
    "    # Filtrado de datos\n",
    "    # Importa el objeto epochs y obtiene los datos SOLO DE EEG\n",
    "    data_epochs = epochs.copy().pick(\"eeg\").get_data()\n",
    "\n",
    "    #get duration\n",
    "    duration= epochs.tmax - epochs.tmin\n",
    "    #get sample frequency\n",
    "    sfreq= epochs.info['sfreq']\n",
    "\n",
    "    # ##valores de todos los electrodos en una epoca\n",
    "    # freqs_elect_all_epoch=[]\n",
    "    # psd_aperiodic_elect_all_epoch=[]\n",
    "    # psd_periodic_elect_all_epoch=[]\n",
    "\n",
    "    # intercept_y_elect_all_epoch=[]\n",
    "    # slope_elect_all_epoch=[]\n",
    "    psd_periodict_elect_all_epoch_all=[]\n",
    "    psd_aperiodic_elect_all_epoch_all=[]\n",
    "    slope_elect_all_epoch_all=[]\n",
    "    intercept_y_elect_all_epoch_all=[]\n",
    "\n",
    "    #for each epoch\n",
    "    for i in range(0,len(data_epochs)):\n",
    "        data_epoch=data_epochs[i]\n",
    "        #print(f\"una epoca tiene un shape de {data_epoch.shape}, con {data_epoch.shape[0]} canales y {data_epoch.shape[1]} puntos de tiempo\")\n",
    "\n",
    "\n",
    "\n",
    "\n",
    "        ##valores de ALL ELECT en ONE EPOCH\n",
    "        psd_aperiodic_elect_all_epoch=[]\n",
    "        psd_periodic_elect_all_epoch=[]\n",
    "\n",
    "        intercept_y_elect_all_epoch=[]\n",
    "        slope_elect_all_epoch=[]\n",
    "\n",
    "\n",
    "\n",
    "        #for each sensor on each epoch\n",
    "        for i in range(0,len(data_epoch)):\n",
    "            #en IRASA hay que meter el time series, es decir, el time series de un canal    \n",
    "            data_elect=data_epoch[i]\n",
    "            #print(f\"un canal tiene un shape de {data_elect.shape} con {data_elect.shape[0]} puntos de tiempo\")\n",
    "\n",
    "\n",
    "            ##computar IRASA para un canal, obtener componentes aperiodicas (FRACTAL) y periodicas (OSCILATORIO)\n",
    "\n",
    "            # freqs,psd_aperiodic, psd_periodic=neurodsp.aperiodic.irasa.compute_irasa(sig, fs, f_range=None,\n",
    "            # hset=None, thresh=None, **spectrum_kwargs)\n",
    "            \n",
    "                    # f_range # Frequency range to restrict the analysis to. tuple, optional\n",
    "                    # hset # Resampling factors used in IRASA calculation.\n",
    "                    #  If not provided, defaults to values from 1.1 to 1.9 with an increment of 0.05.  1d array\n",
    "\n",
    "            #remember to set this value for function, in order to be able to modify it at demmand\n",
    "\n",
    "            freqs,psd_aperiodic_elect_epoch, psd_periodic_elect_epoch=compute_irasa(data_elect, fs=sfreq, f_range=f_range,  \n",
    "                                                                                    hset=hset, thresh=thresh)\n",
    "\n",
    "            ##fit IRASA para un canal\n",
    "            #intercept, slope=fit_irasa(freqs, psd_aperiodic)\n",
    "            #intercept es el valor de la pendiente en el eje y, es un indicador de la ampplitud\n",
    "            #slope es la pendiente, es el POWER LAW EXPONENT, \n",
    "\n",
    "\n",
    "            intercept_y_elect_epoch, slope_elect_epoch = fit_irasa(freqs, psd_aperiodic_elect_epoch)\n",
    "\n",
    "            ##append values for each electrode in ONE epoch\n",
    "            psd_aperiodic_elect_all_epoch.append(psd_aperiodic_elect_epoch)\n",
    "            psd_periodic_elect_all_epoch.append(psd_periodic_elect_epoch)\n",
    "\n",
    "            intercept_y_elect_all_epoch.append(intercept_y_elect_epoch)\n",
    "            slope_elect_all_epoch.append(slope_elect_epoch)\n",
    "\n",
    "        \n",
    "\n",
    "        ##append values for each electrode in ALL epochs\n",
    "        psd_periodict_elect_all_epoch_all.append(psd_periodic_elect_all_epoch)\n",
    "        psd_aperiodic_elect_all_epoch_all.append(psd_aperiodic_elect_all_epoch)\n",
    "        \n",
    "        intercept_y_elect_all_epoch_all.append(intercept_y_elect_all_epoch)\n",
    "        slope_elect_all_epoch_all.append(slope_elect_all_epoch)\n",
    "\n",
    "\n",
    "\n",
    "    ##promedio de todos los valores de los electrodos en todas las epocas\n",
    "        ##conversiñón en arrays\n",
    "    psd_periodict_elect_all_epoch_all_array=np.array(psd_periodict_elect_all_epoch_all)\n",
    "    psd_aperiodic_elect_all_epoch_all_array=np.array(psd_aperiodic_elect_all_epoch_all)\n",
    "\n",
    "    intercept_y_elect_all_epoch_all_array=np.array(intercept_y_elect_all_epoch_all)\n",
    "    slope_elect_all_epoch_all_array=np.array(slope_elect_all_epoch_all)\n",
    "\n",
    "    ##computo de la media de TODOS los electrodos en CADA EPOCA\n",
    "    psd_periodict_elect_mean_epoch_all=np.mean(psd_periodict_elect_all_epoch_all_array, axis=1)\n",
    "    psd_aperiodic_elect_mean_epoch_all=np.mean(psd_aperiodic_elect_all_epoch_all_array, axis=1)\n",
    "\n",
    "    intercept_y_elect_mean_epoch_all=np.mean(intercept_y_elect_all_epoch_all_array, axis=1)\n",
    "    slope_elect_mean_epoch_all=np.mean(slope_elect_all_epoch_all_array, axis=1)\n",
    "\n",
    "\n",
    "    ##computo de la media de CADA los electrodos en TODAS EPOCAS\n",
    "    psd_periodict_elect_all_epoch_mean=np.mean(psd_periodict_elect_all_epoch_all_array, axis=0)\n",
    "    psd_aperiodic_elect_all_epoch_mean=np.mean(psd_aperiodic_elect_all_epoch_all_array, axis=0)\n",
    "\n",
    "    intercept_y_elect_all_epoch_mean=np.mean(intercept_y_elect_all_epoch_all_array, axis=0)\n",
    "    slope_elect_all_epoch_mean=np.mean(slope_elect_all_epoch_all_array, axis=0)\n",
    "\n",
    "\n",
    "\n",
    "\n",
    "    table_PLE = pd.DataFrame({\n",
    "        'Subject': [subj] * len(psd_periodict_elect_all_epoch_all),  # Repite el sujeto para todas las filas\n",
    "        'Combination': [combinacion] * len(psd_periodict_elect_all_epoch_all),  # Repite la combinación para todas las filas\n",
    "        \"Epoch\": range(1, len(psd_periodict_elect_all_epoch_all) + 1),  # Número de épocas\n",
    "        \"freqs\":[freqs]*len(psd_periodict_elect_all_epoch_all),\n",
    "        'psd_periodict_elect_all_epoch_all': psd_periodict_elect_all_epoch_all,\n",
    "        \"psd_aperiodic_elect_all_epoch_all\": psd_aperiodic_elect_all_epoch_all,\n",
    "        'intercept_y_elect_all_epoch_all': intercept_y_elect_all_epoch_all,\n",
    "        'slope_elect_all_epoch_all': slope_elect_all_epoch_all,\n",
    "        'psd_periodict_elect_mean_epoch_all': [psd_periodict_elect_mean_epoch_all] * len(psd_periodict_elect_all_epoch_all),\n",
    "        'psd_aperiodic_elect_mean_epoch_all': [psd_aperiodic_elect_mean_epoch_all] * len(psd_periodict_elect_all_epoch_all),\n",
    "        \"intercept_y_elect_mean_epoch_all\": [intercept_y_elect_mean_epoch_all] * len(psd_periodict_elect_all_epoch_all),\n",
    "        \"slope_elect_mean_epoch_all\": [slope_elect_mean_epoch_all] * len(psd_periodict_elect_all_epoch_all),\n",
    "        'psd_periodict_elect_all_epoch_mean': [psd_periodict_elect_all_epoch_mean] * len(psd_periodict_elect_all_epoch_all),\n",
    "        'psd_aperiodic_elect_all_epoch_mean': [psd_aperiodic_elect_all_epoch_mean] * len(psd_periodict_elect_all_epoch_all),\n",
    "        \"intercept_y_elect_all_epoch_mean\": [intercept_y_elect_all_epoch_mean] * len(psd_periodict_elect_all_epoch_all),\n",
    "        \"slope_elect_all_epoch_mean\": [slope_elect_all_epoch_mean] * len(psd_periodict_elect_all_epoch_all)\n",
    "\n",
    "\n",
    "        })\n",
    "    \n",
    "    return table_PLE\n",
    "\n"
   ]
  },
  {
   "cell_type": "code",
   "execution_count": null,
   "metadata": {},
   "outputs": [],
   "source": [
    "# ## compute power law exponent for each epoch\n",
    "# def ple_exponent(psds_all, isplot=False):\n",
    "#     ##prueba con epochs, ahora has de adaptarlo a la función de power_spectrum_nans \n",
    "#     # first you need to obtain the frequencies, \n",
    "#     freqs= psds_all[0].freqs\n",
    "#     #for np.polyfit we need to convert the frequencies to array\n",
    "#     psds_array = [psds.get_data() for psds in psds_all]\n",
    "#     psds_avg = [np.mean(epoch_psd, axis=0) for epoch_psd in psds_array]\n",
    "#     psds_grand_avg = np.mean(psds_avg, axis=0)\n",
    "\n",
    "#     coeffs= np.polyfit(np.log10(freqs), np.log10(psds_grand_avg), deg=1)\n",
    "#     PLE= -coeffs[0]\n",
    "#     if isplot==True:\n",
    "#         #plot of the power spectrum\n",
    "#         plt.loglog(freqs, psds_grand_avg,  label='PSD Mean')\n",
    "#         #plot of the coeffs calculated\n",
    "#         #its 10**y, where y is the linear regression, ax+b, a is slope, x is log10(freqs) and b is the intercept\n",
    "#         y=coeffs[1] + coeffs[0]*np.log10(freqs)\n",
    "#         plt.loglog(freqs, 10**y, 'r--', label=f'Fit PLE = {PLE:.2f}')\n",
    "#         plt.xlabel('Frequency (Hz)')\n",
    "#         plt.ylabel('Power Spectral Density (dB/Hz)')\n",
    "#         plt.title('Power Law Exponent Fit using MNE-Python')\n",
    "#         plt.legend()\n",
    "#         plt.grid(True)\n",
    "#         plt.show()\n",
    "\n",
    "#         plt.show()\n",
    "\n",
    "\n",
    "\n",
    "#     return coeffs, PLE, psds_grand_avg"
   ]
  },
  {
   "cell_type": "code",
   "execution_count": 13,
   "metadata": {},
   "outputs": [
    {
     "name": "stderr",
     "output_type": "stream",
     "text": [
      "C:\\Users\\UCM\\AppData\\Local\\Temp\\ipykernel_876\\161285217.py:4: FutureWarning: The current default of copy=False will change to copy=True in 1.7. Set the value of copy explicitly to avoid this warning\n",
      "  data_epochs = epochs.copy().pick(\"eeg\").get_data()\n"
     ]
    }
   ],
   "source": [
    "table_PLE=compute_ple(epochs, f_range=(0.1, 40),isplot=False)"
   ]
  },
  {
   "cell_type": "code",
   "execution_count": null,
   "metadata": {},
   "outputs": [
    {
     "name": "stdout",
     "output_type": "stream",
     "text": [
      "Reading g:\\PROYECTO_SELF\\Data_self\\fif_data\\S01_epochs\\S01_S1 - S4-epo.fif ...\n",
      "    Found the data of interest:\n",
      "        t =       0.00 ...    9198.00 ms\n",
      "        0 CTF compensation matrices available\n",
      "Not setting metadata\n",
      "19 matching events found\n",
      "No baseline correction applied\n",
      "0 projection items activated\n"
     ]
    },
    {
     "name": "stderr",
     "output_type": "stream",
     "text": [
      "C:\\Users\\UCM\\AppData\\Local\\Temp\\ipykernel_11608\\161285217.py:4: FutureWarning: The current default of copy=False will change to copy=True in 1.7. Set the value of copy explicitly to avoid this warning\n",
      "  data_epochs = epochs.copy().pick(\"eeg\").get_data()\n"
     ]
    },
    {
     "name": "stdout",
     "output_type": "stream",
     "text": [
      "Reading g:\\PROYECTO_SELF\\Data_self\\fif_data\\S01_epochs\\S01_S1 - S5-epo.fif ...\n",
      "    Found the data of interest:\n",
      "        t =       0.00 ...    9198.00 ms\n",
      "        0 CTF compensation matrices available\n",
      "Not setting metadata\n",
      "21 matching events found\n",
      "No baseline correction applied\n",
      "0 projection items activated\n"
     ]
    },
    {
     "name": "stderr",
     "output_type": "stream",
     "text": [
      "C:\\Users\\UCM\\AppData\\Local\\Temp\\ipykernel_11608\\161285217.py:4: FutureWarning: The current default of copy=False will change to copy=True in 1.7. Set the value of copy explicitly to avoid this warning\n",
      "  data_epochs = epochs.copy().pick(\"eeg\").get_data()\n"
     ]
    },
    {
     "name": "stdout",
     "output_type": "stream",
     "text": [
      "Reading g:\\PROYECTO_SELF\\Data_self\\fif_data\\S01_epochs\\S01_S2 - S4-epo.fif ...\n",
      "    Found the data of interest:\n",
      "        t =       0.00 ...    9198.00 ms\n",
      "        0 CTF compensation matrices available\n",
      "Not setting metadata\n",
      "17 matching events found\n",
      "No baseline correction applied\n",
      "0 projection items activated\n"
     ]
    },
    {
     "name": "stderr",
     "output_type": "stream",
     "text": [
      "C:\\Users\\UCM\\AppData\\Local\\Temp\\ipykernel_11608\\161285217.py:4: FutureWarning: The current default of copy=False will change to copy=True in 1.7. Set the value of copy explicitly to avoid this warning\n",
      "  data_epochs = epochs.copy().pick(\"eeg\").get_data()\n"
     ]
    },
    {
     "name": "stdout",
     "output_type": "stream",
     "text": [
      "Reading g:\\PROYECTO_SELF\\Data_self\\fif_data\\S01_epochs\\S01_S2 - S5-epo.fif ...\n",
      "    Found the data of interest:\n",
      "        t =       0.00 ...    9198.00 ms\n",
      "        0 CTF compensation matrices available\n",
      "Not setting metadata\n",
      "20 matching events found\n",
      "No baseline correction applied\n",
      "0 projection items activated\n"
     ]
    },
    {
     "name": "stderr",
     "output_type": "stream",
     "text": [
      "C:\\Users\\UCM\\AppData\\Local\\Temp\\ipykernel_11608\\161285217.py:4: FutureWarning: The current default of copy=False will change to copy=True in 1.7. Set the value of copy explicitly to avoid this warning\n",
      "  data_epochs = epochs.copy().pick(\"eeg\").get_data()\n"
     ]
    },
    {
     "name": "stdout",
     "output_type": "stream",
     "text": [
      "Reading g:\\PROYECTO_SELF\\Data_self\\fif_data\\S01_epochs\\S01_S3 - S4-epo.fif ...\n",
      "    Found the data of interest:\n",
      "        t =       0.00 ...    9198.00 ms\n",
      "        0 CTF compensation matrices available\n",
      "Not setting metadata\n",
      "22 matching events found\n",
      "No baseline correction applied\n",
      "0 projection items activated\n"
     ]
    },
    {
     "name": "stderr",
     "output_type": "stream",
     "text": [
      "C:\\Users\\UCM\\AppData\\Local\\Temp\\ipykernel_11608\\161285217.py:4: FutureWarning: The current default of copy=False will change to copy=True in 1.7. Set the value of copy explicitly to avoid this warning\n",
      "  data_epochs = epochs.copy().pick(\"eeg\").get_data()\n"
     ]
    },
    {
     "name": "stdout",
     "output_type": "stream",
     "text": [
      "Reading g:\\PROYECTO_SELF\\Data_self\\fif_data\\S01_epochs\\S01_S3 - S5-epo.fif ...\n",
      "    Found the data of interest:\n",
      "        t =       0.00 ...    9198.00 ms\n",
      "        0 CTF compensation matrices available\n",
      "Not setting metadata\n",
      "19 matching events found\n",
      "No baseline correction applied\n",
      "0 projection items activated\n"
     ]
    },
    {
     "name": "stderr",
     "output_type": "stream",
     "text": [
      "C:\\Users\\UCM\\AppData\\Local\\Temp\\ipykernel_11608\\161285217.py:4: FutureWarning: The current default of copy=False will change to copy=True in 1.7. Set the value of copy explicitly to avoid this warning\n",
      "  data_epochs = epochs.copy().pick(\"eeg\").get_data()\n"
     ]
    },
    {
     "name": "stdout",
     "output_type": "stream",
     "text": [
      "Reading g:\\PROYECTO_SELF\\Data_self\\fif_data\\S02_epochs\\S02_S1 - S4-epo.fif ...\n",
      "    Found the data of interest:\n",
      "        t =       0.00 ...    9198.00 ms\n",
      "        0 CTF compensation matrices available\n",
      "Not setting metadata\n",
      "23 matching events found\n",
      "No baseline correction applied\n",
      "0 projection items activated\n"
     ]
    },
    {
     "name": "stderr",
     "output_type": "stream",
     "text": [
      "C:\\Users\\UCM\\AppData\\Local\\Temp\\ipykernel_11608\\161285217.py:4: FutureWarning: The current default of copy=False will change to copy=True in 1.7. Set the value of copy explicitly to avoid this warning\n",
      "  data_epochs = epochs.copy().pick(\"eeg\").get_data()\n"
     ]
    },
    {
     "name": "stdout",
     "output_type": "stream",
     "text": [
      "Reading g:\\PROYECTO_SELF\\Data_self\\fif_data\\S02_epochs\\S02_S1 - S5-epo.fif ...\n",
      "    Found the data of interest:\n",
      "        t =       0.00 ...    9198.00 ms\n",
      "        0 CTF compensation matrices available\n",
      "Not setting metadata\n",
      "22 matching events found\n",
      "No baseline correction applied\n",
      "0 projection items activated\n"
     ]
    },
    {
     "name": "stderr",
     "output_type": "stream",
     "text": [
      "C:\\Users\\UCM\\AppData\\Local\\Temp\\ipykernel_11608\\161285217.py:4: FutureWarning: The current default of copy=False will change to copy=True in 1.7. Set the value of copy explicitly to avoid this warning\n",
      "  data_epochs = epochs.copy().pick(\"eeg\").get_data()\n"
     ]
    },
    {
     "name": "stdout",
     "output_type": "stream",
     "text": [
      "Reading g:\\PROYECTO_SELF\\Data_self\\fif_data\\S02_epochs\\S02_S2 - S4-epo.fif ...\n",
      "    Found the data of interest:\n",
      "        t =       0.00 ...    9198.00 ms\n",
      "        0 CTF compensation matrices available\n",
      "Not setting metadata\n",
      "23 matching events found\n",
      "No baseline correction applied\n",
      "0 projection items activated\n"
     ]
    },
    {
     "name": "stderr",
     "output_type": "stream",
     "text": [
      "C:\\Users\\UCM\\AppData\\Local\\Temp\\ipykernel_11608\\161285217.py:4: FutureWarning: The current default of copy=False will change to copy=True in 1.7. Set the value of copy explicitly to avoid this warning\n",
      "  data_epochs = epochs.copy().pick(\"eeg\").get_data()\n"
     ]
    },
    {
     "name": "stdout",
     "output_type": "stream",
     "text": [
      "Reading g:\\PROYECTO_SELF\\Data_self\\fif_data\\S02_epochs\\S02_S2 - S5-epo.fif ...\n",
      "    Found the data of interest:\n",
      "        t =       0.00 ...    9198.00 ms\n",
      "        0 CTF compensation matrices available\n",
      "Not setting metadata\n",
      "23 matching events found\n",
      "No baseline correction applied\n",
      "0 projection items activated\n"
     ]
    },
    {
     "name": "stderr",
     "output_type": "stream",
     "text": [
      "C:\\Users\\UCM\\AppData\\Local\\Temp\\ipykernel_11608\\161285217.py:4: FutureWarning: The current default of copy=False will change to copy=True in 1.7. Set the value of copy explicitly to avoid this warning\n",
      "  data_epochs = epochs.copy().pick(\"eeg\").get_data()\n"
     ]
    }
   ],
   "source": [
    "##codigo para agrupar todas las tablas\n",
    "\n",
    "all_tables = []\n",
    "\n",
    "for i in range(0,len(subject_names)):\n",
    "    for h in range(0,len(combinaciones)):\n",
    "        subj=subject_names[i]\n",
    "        combinacion= combinaciones[h]\n",
    "        path_epochs= fif_data / f\"{subj}_epochs\" / f\"{subj}_{combinacion}-epo.fif\"\n",
    "        epochs = mne.read_epochs(path_epochs)\n",
    "        table_PLE=compute_ple(epochs, f_range=(0.1, 40),isplot=False)\n",
    "        all_tables.append(table_PLE)\n",
    "\n",
    "table_PLE_subjects_all = pd.concat(all_tables, ignore_index=True)"
   ]
  },
  {
   "cell_type": "code",
   "execution_count": 16,
   "metadata": {},
   "outputs": [],
   "source": [
    "\n",
    "PLE_analysis_path = output_analysis / \"PLE\"\n",
    "PLE_analysis_path.mkdir(parents=True, exist_ok=True)\n"
   ]
  },
  {
   "cell_type": "code",
   "execution_count": 17,
   "metadata": {},
   "outputs": [],
   "source": [
    "table_PLE_subjects_all.to_csv(PLE_analysis_path / f\"table_PLE_subjects_all.csv\", index=False)"
   ]
  }
 ],
 "metadata": {
  "kernelspec": {
   "display_name": "env_meg",
   "language": "python",
   "name": "python3"
  },
  "language_info": {
   "codemirror_mode": {
    "name": "ipython",
    "version": 3
   },
   "file_extension": ".py",
   "mimetype": "text/x-python",
   "name": "python",
   "nbconvert_exporter": "python",
   "pygments_lexer": "ipython3",
   "version": "3.13.2"
  }
 },
 "nbformat": 4,
 "nbformat_minor": 2
}
