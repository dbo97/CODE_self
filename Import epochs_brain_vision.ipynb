{
 "cells": [
  {
   "cell_type": "code",
   "execution_count": 1,
   "metadata": {},
   "outputs": [],
   "source": [
    "##modules\n",
    "#%matplotlib widget\n",
    "#%matplotlib inline\n",
    "#\n",
    "#%matplotlib qt\n",
    "import mne\n",
    "import numpy as np\n",
    "import matplotlib\n",
    "# Establecer un backend interactivo, como 'Qt5Agg', 'GTK3Agg', etc.\n",
    "# Esto depende de los backends disponibles en tu sistema.\n",
    "\n",
    "import matplotlib.pyplot as plt\n",
    "\n",
    "matplotlib.use('TkAgg')  # Asegúrate de que este backend está instalado.\n",
    "\n",
    "import pandas as pd \n",
    "import os\n",
    "import sys\n",
    "\n",
    "from mne.preprocessing import ICA, corrmap, create_ecg_epochs, create_eog_epochs\n",
    "\n",
    "from os.path import join as pathjoin\n",
    "from time import time\n",
    "\n",
    "from pathlib import Path\n",
    "\n",
    "from autoreject import AutoReject"
   ]
  },
  {
   "cell_type": "code",
   "execution_count": 2,
   "metadata": {},
   "outputs": [],
   "source": [
    "# Variables path\n",
    "layer_script = \"block\"\n",
    "\n",
    "#process=\"\"\n",
    "disco=\"g\"\n",
    "\n",
    "# subj = \"sub-A2004\"\n",
    "\n",
    "#subj = sys.argv[1] ## name of participant list\n",
    "\n",
    "# Carpeta general\n",
    "datadir = Path(f\"{disco}:\\\\PROYECTO_SELF\")\n",
    "\n",
    "# #carpetas generales de datos\n",
    "brain_vision_dir = datadir /\"Data_self\"/\"Export_acw_Brain_Vision\"\n",
    "fif_data = datadir /\"Data_self\"/ \"fif_data\" \n",
    "\n",
    "\n",
    "#carpeta analysis\n",
    "output_analysis= datadir / \"output_analysis\"\n",
    "\n",
    "acw_analysis_path = output_analysis / \"acw\"\n",
    "acw_analysis_path.mkdir(parents=True, exist_ok=True)\n",
    "\n",
    "# # Carpeta de preprocesado\n",
    "# output_preproc = datadir / \"output_preproc\"\n",
    "\n",
    "# preproc_path = output_preproc / f\"preproc_{layer_script}\"\n",
    "# preproc_path.mkdir(parents=True, exist_ok=True)\n",
    " \n",
    "# # Carpeta de epocas \"sucias\"\n",
    "# epochs_path = preproc_path / f\"epochs_{layer_script}\"\n",
    "# epochs_path.mkdir(parents=True, exist_ok=True) \n",
    "\n",
    "# # Carpeta de ICA\n",
    "# ICA_path = preproc_path / f\"ICA_{layer_script}\"\n",
    "# ICA_path.mkdir(parents=True, exist_ok=True)\n",
    "\n",
    "# # Épocas limpias\n",
    "# epochs_clean_path = preproc_path / f\"epochs_clean_{layer_script}\"\n",
    "# epochs_clean_path.mkdir(parents=True, exist_ok=True)\n",
    "\n",
    "# #epocas evoked\n",
    "# evoked_path = Path(preproc_path) / f\"evoked_{layer_script}\"\n",
    "# evoked_path.mkdir(parents=True, exist_ok=True)\n",
    " \n",
    "\n",
    "# # Definir la carpeta de output_source antes de usarla\n",
    "# output_source = Path(r\"g:\\MOUS_204\\output_source\")\n",
    "\n",
    "# source_path = output_source / f\"source_{layer_script}\"\n",
    "# source_path.mkdir(parents=True, exist_ok=True)\n",
    "\n",
    "# #raw_hsp es el raw con fiducials cargados\n",
    "# raw_hsp_path = source_path / f\"raw_hsp\"\n",
    "# raw_hsp_path.mkdir(parents=True, exist_ok=True)\n",
    "\n",
    "# # Carpeta de forward solution\n",
    "# fwd_path = source_path / f\"fwd\"\n",
    "# fwd_path.mkdir(parents=True, exist_ok=True)\n",
    "\n",
    "# # Carpeta de inverse solution\n",
    "# inverse_path = source_path / f\"inverse\"\n",
    "# inverse_path.mkdir(parents=True, exist_ok=True)\n",
    "\n",
    "\n",
    "# mne.utils.set_config('SUBJECTS_DIR', r'\\\\wsl$\\Ubuntu-20.04\\usr\\local\\freesurfer\\subjects', set_env=True)"
   ]
  },
  {
   "cell_type": "code",
   "execution_count": 5,
   "metadata": {},
   "outputs": [
    {
     "name": "stdout",
     "output_type": "stream",
     "text": [
      "\n",
      "Procesando sujeto S01:\n",
      "  - S01_vis2_S1 - S4\n",
      "Extracting parameters from G:\\PROYECTO_SELF\\Data_self\\Export_acw_Brain_Vision\\S01_vis2_S1 - S4.vhdr...\n",
      "Setting channel info structure...\n",
      "Reading 0 ... 87399  =      0.000 ...   174.798 secs...\n",
      "EEG channel type selected for re-referencing\n",
      "Applying a custom ('EEG',) reference.\n",
      "Not setting metadata\n",
      "19 matching events found\n",
      "No baseline correction applied\n",
      "0 projection items activated\n",
      "Using data from preloaded Raw for 19 events and 4600 original time points ...\n",
      "0 bad epochs dropped\n"
     ]
    },
    {
     "name": "stderr",
     "output_type": "stream",
     "text": [
      "C:\\Users\\UCM\\AppData\\Local\\Temp\\ipykernel_8624\\362719528.py:55: RuntimeWarning: No coordinate information found for channels ['HEOG+', 'HEOG', 'VEOG+', 'VEOG', 'M1', 'M2']. Setting channel types to misc. To avoid this warning, set channel types explicitly.\n",
      "  raw = mne.io.read_raw_brainvision(data, preload=True)\n",
      "C:\\Users\\UCM\\AppData\\Local\\Temp\\ipykernel_8624\\362719528.py:55: RuntimeWarning: Not setting positions of 7 misc channels found in montage:\n",
      "['HEOG+', 'HEOG', 'VEOG+', 'VEOG', 'M1', 'GSR', 'M2']\n",
      "Consider setting the channel types to be of EEG/sEEG/ECoG/DBS/fNIRS using inst.set_channel_types before calling inst.set_montage, or omit these channels when creating your montage.\n",
      "  raw = mne.io.read_raw_brainvision(data, preload=True)\n",
      "C:\\Users\\UCM\\AppData\\Local\\Temp\\ipykernel_8624\\362719528.py:62: RuntimeWarning: The unit for channel(s) HEOG, HEOG+, VEOG, VEOG+ has changed from NA to V.\n",
      "  raw.set_channel_types({ch: 'eog' for ch in ocular_channels})\n"
     ]
    },
    {
     "name": "stdout",
     "output_type": "stream",
     "text": [
      "  - S01_vis2_S1 - S5\n",
      "Extracting parameters from G:\\PROYECTO_SELF\\Data_self\\Export_acw_Brain_Vision\\S01_vis2_S1 - S5.vhdr...\n",
      "Setting channel info structure...\n",
      "Reading 0 ... 96599  =      0.000 ...   193.198 secs...\n",
      "EEG channel type selected for re-referencing\n",
      "Applying a custom ('EEG',) reference.\n",
      "Not setting metadata\n",
      "21 matching events found\n",
      "No baseline correction applied\n",
      "0 projection items activated\n",
      "Using data from preloaded Raw for 21 events and 4600 original time points ...\n",
      "0 bad epochs dropped\n"
     ]
    },
    {
     "name": "stderr",
     "output_type": "stream",
     "text": [
      "C:\\Users\\UCM\\AppData\\Local\\Temp\\ipykernel_8624\\362719528.py:55: RuntimeWarning: No coordinate information found for channels ['HEOG+', 'HEOG', 'VEOG+', 'VEOG', 'M1', 'M2']. Setting channel types to misc. To avoid this warning, set channel types explicitly.\n",
      "  raw = mne.io.read_raw_brainvision(data, preload=True)\n",
      "C:\\Users\\UCM\\AppData\\Local\\Temp\\ipykernel_8624\\362719528.py:55: RuntimeWarning: Not setting positions of 7 misc channels found in montage:\n",
      "['HEOG+', 'HEOG', 'VEOG+', 'VEOG', 'M1', 'GSR', 'M2']\n",
      "Consider setting the channel types to be of EEG/sEEG/ECoG/DBS/fNIRS using inst.set_channel_types before calling inst.set_montage, or omit these channels when creating your montage.\n",
      "  raw = mne.io.read_raw_brainvision(data, preload=True)\n",
      "C:\\Users\\UCM\\AppData\\Local\\Temp\\ipykernel_8624\\362719528.py:62: RuntimeWarning: The unit for channel(s) HEOG, HEOG+, VEOG, VEOG+ has changed from NA to V.\n",
      "  raw.set_channel_types({ch: 'eog' for ch in ocular_channels})\n"
     ]
    },
    {
     "name": "stdout",
     "output_type": "stream",
     "text": [
      "  - S01_vis2_S2 - S4\n",
      "Extracting parameters from G:\\PROYECTO_SELF\\Data_self\\Export_acw_Brain_Vision\\S01_vis2_S2 - S4.vhdr...\n",
      "Setting channel info structure...\n",
      "Reading 0 ... 78199  =      0.000 ...   156.398 secs...\n",
      "EEG channel type selected for re-referencing\n",
      "Applying a custom ('EEG',) reference.\n",
      "Not setting metadata\n",
      "17 matching events found\n",
      "No baseline correction applied\n",
      "0 projection items activated\n",
      "Using data from preloaded Raw for 17 events and 4600 original time points ...\n",
      "0 bad epochs dropped\n"
     ]
    },
    {
     "name": "stderr",
     "output_type": "stream",
     "text": [
      "C:\\Users\\UCM\\AppData\\Local\\Temp\\ipykernel_8624\\362719528.py:55: RuntimeWarning: No coordinate information found for channels ['HEOG+', 'HEOG', 'VEOG+', 'VEOG', 'M1', 'M2']. Setting channel types to misc. To avoid this warning, set channel types explicitly.\n",
      "  raw = mne.io.read_raw_brainvision(data, preload=True)\n",
      "C:\\Users\\UCM\\AppData\\Local\\Temp\\ipykernel_8624\\362719528.py:55: RuntimeWarning: Not setting positions of 7 misc channels found in montage:\n",
      "['HEOG+', 'HEOG', 'VEOG+', 'VEOG', 'M1', 'GSR', 'M2']\n",
      "Consider setting the channel types to be of EEG/sEEG/ECoG/DBS/fNIRS using inst.set_channel_types before calling inst.set_montage, or omit these channels when creating your montage.\n",
      "  raw = mne.io.read_raw_brainvision(data, preload=True)\n",
      "C:\\Users\\UCM\\AppData\\Local\\Temp\\ipykernel_8624\\362719528.py:62: RuntimeWarning: The unit for channel(s) HEOG, HEOG+, VEOG, VEOG+ has changed from NA to V.\n",
      "  raw.set_channel_types({ch: 'eog' for ch in ocular_channels})\n"
     ]
    },
    {
     "name": "stdout",
     "output_type": "stream",
     "text": [
      "  - S01_vis2_S2 - S5\n",
      "Extracting parameters from G:\\PROYECTO_SELF\\Data_self\\Export_acw_Brain_Vision\\S01_vis2_S2 - S5.vhdr...\n",
      "Setting channel info structure...\n",
      "Reading 0 ... 91999  =      0.000 ...   183.998 secs...\n",
      "EEG channel type selected for re-referencing\n",
      "Applying a custom ('EEG',) reference.\n",
      "Not setting metadata\n",
      "20 matching events found\n",
      "No baseline correction applied\n",
      "0 projection items activated\n",
      "Using data from preloaded Raw for 20 events and 4600 original time points ...\n",
      "0 bad epochs dropped\n"
     ]
    },
    {
     "name": "stderr",
     "output_type": "stream",
     "text": [
      "C:\\Users\\UCM\\AppData\\Local\\Temp\\ipykernel_8624\\362719528.py:55: RuntimeWarning: No coordinate information found for channels ['HEOG+', 'HEOG', 'VEOG+', 'VEOG', 'M1', 'M2']. Setting channel types to misc. To avoid this warning, set channel types explicitly.\n",
      "  raw = mne.io.read_raw_brainvision(data, preload=True)\n",
      "C:\\Users\\UCM\\AppData\\Local\\Temp\\ipykernel_8624\\362719528.py:55: RuntimeWarning: Not setting positions of 7 misc channels found in montage:\n",
      "['HEOG+', 'HEOG', 'VEOG+', 'VEOG', 'M1', 'GSR', 'M2']\n",
      "Consider setting the channel types to be of EEG/sEEG/ECoG/DBS/fNIRS using inst.set_channel_types before calling inst.set_montage, or omit these channels when creating your montage.\n",
      "  raw = mne.io.read_raw_brainvision(data, preload=True)\n",
      "C:\\Users\\UCM\\AppData\\Local\\Temp\\ipykernel_8624\\362719528.py:62: RuntimeWarning: The unit for channel(s) HEOG, HEOG+, VEOG, VEOG+ has changed from NA to V.\n",
      "  raw.set_channel_types({ch: 'eog' for ch in ocular_channels})\n"
     ]
    },
    {
     "name": "stdout",
     "output_type": "stream",
     "text": [
      "  - S01_vis2_S3 - S4\n",
      "Extracting parameters from G:\\PROYECTO_SELF\\Data_self\\Export_acw_Brain_Vision\\S01_vis2_S3 - S4.vhdr...\n",
      "Setting channel info structure...\n",
      "Reading 0 ... 101199  =      0.000 ...   202.398 secs...\n",
      "EEG channel type selected for re-referencing\n",
      "Applying a custom ('EEG',) reference.\n",
      "Not setting metadata\n",
      "22 matching events found\n",
      "No baseline correction applied\n",
      "0 projection items activated\n",
      "Using data from preloaded Raw for 22 events and 4600 original time points ...\n",
      "0 bad epochs dropped\n"
     ]
    },
    {
     "name": "stderr",
     "output_type": "stream",
     "text": [
      "C:\\Users\\UCM\\AppData\\Local\\Temp\\ipykernel_8624\\362719528.py:55: RuntimeWarning: No coordinate information found for channels ['HEOG+', 'HEOG', 'VEOG+', 'VEOG', 'M1', 'M2']. Setting channel types to misc. To avoid this warning, set channel types explicitly.\n",
      "  raw = mne.io.read_raw_brainvision(data, preload=True)\n",
      "C:\\Users\\UCM\\AppData\\Local\\Temp\\ipykernel_8624\\362719528.py:55: RuntimeWarning: Not setting positions of 7 misc channels found in montage:\n",
      "['HEOG+', 'HEOG', 'VEOG+', 'VEOG', 'M1', 'GSR', 'M2']\n",
      "Consider setting the channel types to be of EEG/sEEG/ECoG/DBS/fNIRS using inst.set_channel_types before calling inst.set_montage, or omit these channels when creating your montage.\n",
      "  raw = mne.io.read_raw_brainvision(data, preload=True)\n",
      "C:\\Users\\UCM\\AppData\\Local\\Temp\\ipykernel_8624\\362719528.py:62: RuntimeWarning: The unit for channel(s) HEOG, HEOG+, VEOG, VEOG+ has changed from NA to V.\n",
      "  raw.set_channel_types({ch: 'eog' for ch in ocular_channels})\n"
     ]
    },
    {
     "name": "stdout",
     "output_type": "stream",
     "text": [
      "  - S01_vis2_S3 - S5\n",
      "Extracting parameters from G:\\PROYECTO_SELF\\Data_self\\Export_acw_Brain_Vision\\S01_vis2_S3 - S5.vhdr...\n",
      "Setting channel info structure...\n",
      "Reading 0 ... 87399  =      0.000 ...   174.798 secs...\n",
      "EEG channel type selected for re-referencing\n",
      "Applying a custom ('EEG',) reference.\n",
      "Not setting metadata\n",
      "19 matching events found\n",
      "No baseline correction applied\n",
      "0 projection items activated\n",
      "Using data from preloaded Raw for 19 events and 4600 original time points ...\n",
      "0 bad epochs dropped\n"
     ]
    },
    {
     "name": "stderr",
     "output_type": "stream",
     "text": [
      "C:\\Users\\UCM\\AppData\\Local\\Temp\\ipykernel_8624\\362719528.py:55: RuntimeWarning: No coordinate information found for channels ['HEOG+', 'HEOG', 'VEOG+', 'VEOG', 'M1', 'M2']. Setting channel types to misc. To avoid this warning, set channel types explicitly.\n",
      "  raw = mne.io.read_raw_brainvision(data, preload=True)\n",
      "C:\\Users\\UCM\\AppData\\Local\\Temp\\ipykernel_8624\\362719528.py:55: RuntimeWarning: Not setting positions of 7 misc channels found in montage:\n",
      "['HEOG+', 'HEOG', 'VEOG+', 'VEOG', 'M1', 'GSR', 'M2']\n",
      "Consider setting the channel types to be of EEG/sEEG/ECoG/DBS/fNIRS using inst.set_channel_types before calling inst.set_montage, or omit these channels when creating your montage.\n",
      "  raw = mne.io.read_raw_brainvision(data, preload=True)\n",
      "C:\\Users\\UCM\\AppData\\Local\\Temp\\ipykernel_8624\\362719528.py:62: RuntimeWarning: The unit for channel(s) HEOG, HEOG+, VEOG, VEOG+ has changed from NA to V.\n",
      "  raw.set_channel_types({ch: 'eog' for ch in ocular_channels})\n"
     ]
    },
    {
     "name": "stdout",
     "output_type": "stream",
     "text": [
      "\n",
      "Procesando sujeto S02:\n",
      "  - S02_vis_S1 - S4\n",
      "Extracting parameters from G:\\PROYECTO_SELF\\Data_self\\Export_acw_Brain_Vision\\S02_vis_S1 - S4.vhdr...\n",
      "Setting channel info structure...\n",
      "Reading 0 ... 105799  =      0.000 ...   211.598 secs...\n",
      "EEG channel type selected for re-referencing\n",
      "Applying a custom ('EEG',) reference.\n",
      "Not setting metadata\n",
      "23 matching events found\n",
      "No baseline correction applied\n",
      "0 projection items activated\n",
      "Using data from preloaded Raw for 23 events and 4600 original time points ...\n",
      "0 bad epochs dropped\n"
     ]
    },
    {
     "name": "stderr",
     "output_type": "stream",
     "text": [
      "C:\\Users\\UCM\\AppData\\Local\\Temp\\ipykernel_8624\\362719528.py:55: RuntimeWarning: No coordinate information found for channels ['HEOG+', 'HEOG', 'VEOG+', 'VEOG', 'M1', 'M2']. Setting channel types to misc. To avoid this warning, set channel types explicitly.\n",
      "  raw = mne.io.read_raw_brainvision(data, preload=True)\n",
      "C:\\Users\\UCM\\AppData\\Local\\Temp\\ipykernel_8624\\362719528.py:55: RuntimeWarning: Not setting positions of 7 misc channels found in montage:\n",
      "['HEOG+', 'HEOG', 'VEOG+', 'VEOG', 'M1', 'GSR', 'M2']\n",
      "Consider setting the channel types to be of EEG/sEEG/ECoG/DBS/fNIRS using inst.set_channel_types before calling inst.set_montage, or omit these channels when creating your montage.\n",
      "  raw = mne.io.read_raw_brainvision(data, preload=True)\n",
      "C:\\Users\\UCM\\AppData\\Local\\Temp\\ipykernel_8624\\362719528.py:62: RuntimeWarning: The unit for channel(s) HEOG, HEOG+, VEOG, VEOG+ has changed from NA to V.\n",
      "  raw.set_channel_types({ch: 'eog' for ch in ocular_channels})\n"
     ]
    },
    {
     "name": "stdout",
     "output_type": "stream",
     "text": [
      "  - S02_vis_S1 - S5\n",
      "Extracting parameters from G:\\PROYECTO_SELF\\Data_self\\Export_acw_Brain_Vision\\S02_vis_S1 - S5.vhdr...\n",
      "Setting channel info structure...\n",
      "Reading 0 ... 101199  =      0.000 ...   202.398 secs...\n",
      "EEG channel type selected for re-referencing\n",
      "Applying a custom ('EEG',) reference.\n",
      "Not setting metadata\n",
      "22 matching events found\n",
      "No baseline correction applied\n",
      "0 projection items activated\n",
      "Using data from preloaded Raw for 22 events and 4600 original time points ...\n",
      "0 bad epochs dropped\n"
     ]
    },
    {
     "name": "stderr",
     "output_type": "stream",
     "text": [
      "C:\\Users\\UCM\\AppData\\Local\\Temp\\ipykernel_8624\\362719528.py:55: RuntimeWarning: No coordinate information found for channels ['HEOG+', 'HEOG', 'VEOG+', 'VEOG', 'M1', 'M2']. Setting channel types to misc. To avoid this warning, set channel types explicitly.\n",
      "  raw = mne.io.read_raw_brainvision(data, preload=True)\n",
      "C:\\Users\\UCM\\AppData\\Local\\Temp\\ipykernel_8624\\362719528.py:55: RuntimeWarning: Not setting positions of 7 misc channels found in montage:\n",
      "['HEOG+', 'HEOG', 'VEOG+', 'VEOG', 'M1', 'GSR', 'M2']\n",
      "Consider setting the channel types to be of EEG/sEEG/ECoG/DBS/fNIRS using inst.set_channel_types before calling inst.set_montage, or omit these channels when creating your montage.\n",
      "  raw = mne.io.read_raw_brainvision(data, preload=True)\n",
      "C:\\Users\\UCM\\AppData\\Local\\Temp\\ipykernel_8624\\362719528.py:62: RuntimeWarning: The unit for channel(s) HEOG, HEOG+, VEOG, VEOG+ has changed from NA to V.\n",
      "  raw.set_channel_types({ch: 'eog' for ch in ocular_channels})\n"
     ]
    },
    {
     "name": "stdout",
     "output_type": "stream",
     "text": [
      "  - S02_vis_S2 - S4\n",
      "Extracting parameters from G:\\PROYECTO_SELF\\Data_self\\Export_acw_Brain_Vision\\S02_vis_S2 - S4.vhdr...\n",
      "Setting channel info structure...\n",
      "Reading 0 ... 105799  =      0.000 ...   211.598 secs...\n",
      "EEG channel type selected for re-referencing\n",
      "Applying a custom ('EEG',) reference.\n",
      "Not setting metadata\n",
      "23 matching events found\n",
      "No baseline correction applied\n",
      "0 projection items activated\n",
      "Using data from preloaded Raw for 23 events and 4600 original time points ...\n",
      "0 bad epochs dropped\n"
     ]
    },
    {
     "name": "stderr",
     "output_type": "stream",
     "text": [
      "C:\\Users\\UCM\\AppData\\Local\\Temp\\ipykernel_8624\\362719528.py:55: RuntimeWarning: No coordinate information found for channels ['HEOG+', 'HEOG', 'VEOG+', 'VEOG', 'M1', 'M2']. Setting channel types to misc. To avoid this warning, set channel types explicitly.\n",
      "  raw = mne.io.read_raw_brainvision(data, preload=True)\n",
      "C:\\Users\\UCM\\AppData\\Local\\Temp\\ipykernel_8624\\362719528.py:55: RuntimeWarning: Not setting positions of 7 misc channels found in montage:\n",
      "['HEOG+', 'HEOG', 'VEOG+', 'VEOG', 'M1', 'GSR', 'M2']\n",
      "Consider setting the channel types to be of EEG/sEEG/ECoG/DBS/fNIRS using inst.set_channel_types before calling inst.set_montage, or omit these channels when creating your montage.\n",
      "  raw = mne.io.read_raw_brainvision(data, preload=True)\n",
      "C:\\Users\\UCM\\AppData\\Local\\Temp\\ipykernel_8624\\362719528.py:62: RuntimeWarning: The unit for channel(s) HEOG, HEOG+, VEOG, VEOG+ has changed from NA to V.\n",
      "  raw.set_channel_types({ch: 'eog' for ch in ocular_channels})\n"
     ]
    },
    {
     "name": "stdout",
     "output_type": "stream",
     "text": [
      "  - S02_vis_S2 - S5\n",
      "Extracting parameters from G:\\PROYECTO_SELF\\Data_self\\Export_acw_Brain_Vision\\S02_vis_S2 - S5.vhdr...\n",
      "Setting channel info structure...\n",
      "Reading 0 ... 105799  =      0.000 ...   211.598 secs...\n",
      "EEG channel type selected for re-referencing\n",
      "Applying a custom ('EEG',) reference.\n",
      "Not setting metadata\n",
      "23 matching events found\n",
      "No baseline correction applied\n",
      "0 projection items activated\n",
      "Using data from preloaded Raw for 23 events and 4600 original time points ...\n",
      "0 bad epochs dropped\n"
     ]
    },
    {
     "name": "stderr",
     "output_type": "stream",
     "text": [
      "C:\\Users\\UCM\\AppData\\Local\\Temp\\ipykernel_8624\\362719528.py:55: RuntimeWarning: No coordinate information found for channels ['HEOG+', 'HEOG', 'VEOG+', 'VEOG', 'M1', 'M2']. Setting channel types to misc. To avoid this warning, set channel types explicitly.\n",
      "  raw = mne.io.read_raw_brainvision(data, preload=True)\n",
      "C:\\Users\\UCM\\AppData\\Local\\Temp\\ipykernel_8624\\362719528.py:55: RuntimeWarning: Not setting positions of 7 misc channels found in montage:\n",
      "['HEOG+', 'HEOG', 'VEOG+', 'VEOG', 'M1', 'GSR', 'M2']\n",
      "Consider setting the channel types to be of EEG/sEEG/ECoG/DBS/fNIRS using inst.set_channel_types before calling inst.set_montage, or omit these channels when creating your montage.\n",
      "  raw = mne.io.read_raw_brainvision(data, preload=True)\n",
      "C:\\Users\\UCM\\AppData\\Local\\Temp\\ipykernel_8624\\362719528.py:62: RuntimeWarning: The unit for channel(s) HEOG, HEOG+, VEOG, VEOG+ has changed from NA to V.\n",
      "  raw.set_channel_types({ch: 'eog' for ch in ocular_channels})\n"
     ]
    },
    {
     "name": "stdout",
     "output_type": "stream",
     "text": [
      "  - S02_vis_S3 - S4\n",
      "Extracting parameters from G:\\PROYECTO_SELF\\Data_self\\Export_acw_Brain_Vision\\S02_vis_S3 - S4.vhdr...\n",
      "Setting channel info structure...\n",
      "Reading 0 ... 105799  =      0.000 ...   211.598 secs...\n",
      "EEG channel type selected for re-referencing\n",
      "Applying a custom ('EEG',) reference.\n",
      "Not setting metadata\n",
      "23 matching events found\n",
      "No baseline correction applied\n",
      "0 projection items activated\n",
      "Using data from preloaded Raw for 23 events and 4600 original time points ...\n",
      "0 bad epochs dropped\n"
     ]
    },
    {
     "name": "stderr",
     "output_type": "stream",
     "text": [
      "C:\\Users\\UCM\\AppData\\Local\\Temp\\ipykernel_8624\\362719528.py:55: RuntimeWarning: No coordinate information found for channels ['HEOG+', 'HEOG', 'VEOG+', 'VEOG', 'M1', 'M2']. Setting channel types to misc. To avoid this warning, set channel types explicitly.\n",
      "  raw = mne.io.read_raw_brainvision(data, preload=True)\n",
      "C:\\Users\\UCM\\AppData\\Local\\Temp\\ipykernel_8624\\362719528.py:55: RuntimeWarning: Not setting positions of 7 misc channels found in montage:\n",
      "['HEOG+', 'HEOG', 'VEOG+', 'VEOG', 'M1', 'GSR', 'M2']\n",
      "Consider setting the channel types to be of EEG/sEEG/ECoG/DBS/fNIRS using inst.set_channel_types before calling inst.set_montage, or omit these channels when creating your montage.\n",
      "  raw = mne.io.read_raw_brainvision(data, preload=True)\n",
      "C:\\Users\\UCM\\AppData\\Local\\Temp\\ipykernel_8624\\362719528.py:62: RuntimeWarning: The unit for channel(s) HEOG, HEOG+, VEOG, VEOG+ has changed from NA to V.\n",
      "  raw.set_channel_types({ch: 'eog' for ch in ocular_channels})\n"
     ]
    },
    {
     "name": "stdout",
     "output_type": "stream",
     "text": [
      "  - S02_vis_S3 - S5\n",
      "Extracting parameters from G:\\PROYECTO_SELF\\Data_self\\Export_acw_Brain_Vision\\S02_vis_S3 - S5.vhdr...\n",
      "Setting channel info structure...\n",
      "Reading 0 ... 110399  =      0.000 ...   220.798 secs...\n",
      "EEG channel type selected for re-referencing\n",
      "Applying a custom ('EEG',) reference.\n",
      "Not setting metadata\n",
      "24 matching events found\n",
      "No baseline correction applied\n",
      "0 projection items activated\n",
      "Using data from preloaded Raw for 24 events and 4600 original time points ...\n",
      "0 bad epochs dropped\n"
     ]
    },
    {
     "name": "stderr",
     "output_type": "stream",
     "text": [
      "C:\\Users\\UCM\\AppData\\Local\\Temp\\ipykernel_8624\\362719528.py:55: RuntimeWarning: No coordinate information found for channels ['HEOG+', 'HEOG', 'VEOG+', 'VEOG', 'M1', 'M2']. Setting channel types to misc. To avoid this warning, set channel types explicitly.\n",
      "  raw = mne.io.read_raw_brainvision(data, preload=True)\n",
      "C:\\Users\\UCM\\AppData\\Local\\Temp\\ipykernel_8624\\362719528.py:55: RuntimeWarning: Not setting positions of 7 misc channels found in montage:\n",
      "['HEOG+', 'HEOG', 'VEOG+', 'VEOG', 'M1', 'GSR', 'M2']\n",
      "Consider setting the channel types to be of EEG/sEEG/ECoG/DBS/fNIRS using inst.set_channel_types before calling inst.set_montage, or omit these channels when creating your montage.\n",
      "  raw = mne.io.read_raw_brainvision(data, preload=True)\n",
      "C:\\Users\\UCM\\AppData\\Local\\Temp\\ipykernel_8624\\362719528.py:62: RuntimeWarning: The unit for channel(s) HEOG, HEOG+, VEOG, VEOG+ has changed from NA to V.\n",
      "  raw.set_channel_types({ch: 'eog' for ch in ocular_channels})\n"
     ]
    },
    {
     "name": "stdout",
     "output_type": "stream",
     "text": [
      "\n",
      "Procesando sujeto S03:\n",
      "  - S03_vis_S1 - S4\n",
      "Extracting parameters from G:\\PROYECTO_SELF\\Data_self\\Export_acw_Brain_Vision\\S03_vis_S1 - S4.vhdr...\n",
      "Setting channel info structure...\n",
      "Reading 0 ... 101199  =      0.000 ...   202.398 secs...\n",
      "EEG channel type selected for re-referencing\n",
      "Applying a custom ('EEG',) reference.\n",
      "Not setting metadata\n",
      "22 matching events found\n",
      "No baseline correction applied\n",
      "0 projection items activated\n",
      "Using data from preloaded Raw for 22 events and 4600 original time points ...\n",
      "0 bad epochs dropped\n"
     ]
    },
    {
     "name": "stderr",
     "output_type": "stream",
     "text": [
      "C:\\Users\\UCM\\AppData\\Local\\Temp\\ipykernel_8624\\362719528.py:55: RuntimeWarning: No coordinate information found for channels ['HEOG+', 'HEOG', 'VEOG+', 'VEOG', 'M1', 'M2']. Setting channel types to misc. To avoid this warning, set channel types explicitly.\n",
      "  raw = mne.io.read_raw_brainvision(data, preload=True)\n",
      "C:\\Users\\UCM\\AppData\\Local\\Temp\\ipykernel_8624\\362719528.py:55: RuntimeWarning: Not setting positions of 7 misc channels found in montage:\n",
      "['HEOG+', 'HEOG', 'VEOG+', 'VEOG', 'M1', 'GSR', 'M2']\n",
      "Consider setting the channel types to be of EEG/sEEG/ECoG/DBS/fNIRS using inst.set_channel_types before calling inst.set_montage, or omit these channels when creating your montage.\n",
      "  raw = mne.io.read_raw_brainvision(data, preload=True)\n",
      "C:\\Users\\UCM\\AppData\\Local\\Temp\\ipykernel_8624\\362719528.py:62: RuntimeWarning: The unit for channel(s) HEOG, HEOG+, VEOG, VEOG+ has changed from NA to V.\n",
      "  raw.set_channel_types({ch: 'eog' for ch in ocular_channels})\n"
     ]
    },
    {
     "name": "stdout",
     "output_type": "stream",
     "text": [
      "  - S03_vis_S1 - S5\n",
      "Extracting parameters from G:\\PROYECTO_SELF\\Data_self\\Export_acw_Brain_Vision\\S03_vis_S1 - S5.vhdr...\n",
      "Setting channel info structure...\n",
      "Reading 0 ... 110399  =      0.000 ...   220.798 secs...\n",
      "EEG channel type selected for re-referencing\n",
      "Applying a custom ('EEG',) reference.\n",
      "Not setting metadata\n",
      "24 matching events found\n",
      "No baseline correction applied\n",
      "0 projection items activated\n",
      "Using data from preloaded Raw for 24 events and 4600 original time points ...\n"
     ]
    },
    {
     "name": "stderr",
     "output_type": "stream",
     "text": [
      "C:\\Users\\UCM\\AppData\\Local\\Temp\\ipykernel_8624\\362719528.py:55: RuntimeWarning: No coordinate information found for channels ['HEOG+', 'HEOG', 'VEOG+', 'VEOG', 'M1', 'M2']. Setting channel types to misc. To avoid this warning, set channel types explicitly.\n",
      "  raw = mne.io.read_raw_brainvision(data, preload=True)\n",
      "C:\\Users\\UCM\\AppData\\Local\\Temp\\ipykernel_8624\\362719528.py:55: RuntimeWarning: Not setting positions of 7 misc channels found in montage:\n",
      "['HEOG+', 'HEOG', 'VEOG+', 'VEOG', 'M1', 'GSR', 'M2']\n",
      "Consider setting the channel types to be of EEG/sEEG/ECoG/DBS/fNIRS using inst.set_channel_types before calling inst.set_montage, or omit these channels when creating your montage.\n",
      "  raw = mne.io.read_raw_brainvision(data, preload=True)\n",
      "C:\\Users\\UCM\\AppData\\Local\\Temp\\ipykernel_8624\\362719528.py:62: RuntimeWarning: The unit for channel(s) HEOG, HEOG+, VEOG, VEOG+ has changed from NA to V.\n",
      "  raw.set_channel_types({ch: 'eog' for ch in ocular_channels})\n"
     ]
    },
    {
     "name": "stdout",
     "output_type": "stream",
     "text": [
      "0 bad epochs dropped\n",
      "  - S03_vis_S2 - S4\n",
      "Extracting parameters from G:\\PROYECTO_SELF\\Data_self\\Export_acw_Brain_Vision\\S03_vis_S2 - S4.vhdr...\n",
      "Setting channel info structure...\n",
      "Reading 0 ... 110399  =      0.000 ...   220.798 secs...\n",
      "EEG channel type selected for re-referencing\n",
      "Applying a custom ('EEG',) reference.\n",
      "Not setting metadata\n",
      "24 matching events found\n",
      "No baseline correction applied\n",
      "0 projection items activated\n",
      "Using data from preloaded Raw for 24 events and 4600 original time points ...\n"
     ]
    },
    {
     "name": "stderr",
     "output_type": "stream",
     "text": [
      "C:\\Users\\UCM\\AppData\\Local\\Temp\\ipykernel_8624\\362719528.py:55: RuntimeWarning: No coordinate information found for channels ['HEOG+', 'HEOG', 'VEOG+', 'VEOG', 'M1', 'M2']. Setting channel types to misc. To avoid this warning, set channel types explicitly.\n",
      "  raw = mne.io.read_raw_brainvision(data, preload=True)\n",
      "C:\\Users\\UCM\\AppData\\Local\\Temp\\ipykernel_8624\\362719528.py:55: RuntimeWarning: Not setting positions of 7 misc channels found in montage:\n",
      "['HEOG+', 'HEOG', 'VEOG+', 'VEOG', 'M1', 'GSR', 'M2']\n",
      "Consider setting the channel types to be of EEG/sEEG/ECoG/DBS/fNIRS using inst.set_channel_types before calling inst.set_montage, or omit these channels when creating your montage.\n",
      "  raw = mne.io.read_raw_brainvision(data, preload=True)\n",
      "C:\\Users\\UCM\\AppData\\Local\\Temp\\ipykernel_8624\\362719528.py:62: RuntimeWarning: The unit for channel(s) HEOG, HEOG+, VEOG, VEOG+ has changed from NA to V.\n",
      "  raw.set_channel_types({ch: 'eog' for ch in ocular_channels})\n"
     ]
    },
    {
     "name": "stdout",
     "output_type": "stream",
     "text": [
      "0 bad epochs dropped\n",
      "  - S03_vis_S2 - S5\n",
      "Extracting parameters from G:\\PROYECTO_SELF\\Data_self\\Export_acw_Brain_Vision\\S03_vis_S2 - S5.vhdr...\n",
      "Setting channel info structure...\n",
      "Reading 0 ... 101199  =      0.000 ...   202.398 secs...\n",
      "EEG channel type selected for re-referencing\n",
      "Applying a custom ('EEG',) reference.\n",
      "Not setting metadata\n",
      "22 matching events found\n",
      "No baseline correction applied\n",
      "0 projection items activated\n",
      "Using data from preloaded Raw for 22 events and 4600 original time points ...\n",
      "0 bad epochs dropped\n"
     ]
    },
    {
     "name": "stderr",
     "output_type": "stream",
     "text": [
      "C:\\Users\\UCM\\AppData\\Local\\Temp\\ipykernel_8624\\362719528.py:55: RuntimeWarning: No coordinate information found for channels ['HEOG+', 'HEOG', 'VEOG+', 'VEOG', 'M1', 'M2']. Setting channel types to misc. To avoid this warning, set channel types explicitly.\n",
      "  raw = mne.io.read_raw_brainvision(data, preload=True)\n",
      "C:\\Users\\UCM\\AppData\\Local\\Temp\\ipykernel_8624\\362719528.py:55: RuntimeWarning: Not setting positions of 7 misc channels found in montage:\n",
      "['HEOG+', 'HEOG', 'VEOG+', 'VEOG', 'M1', 'GSR', 'M2']\n",
      "Consider setting the channel types to be of EEG/sEEG/ECoG/DBS/fNIRS using inst.set_channel_types before calling inst.set_montage, or omit these channels when creating your montage.\n",
      "  raw = mne.io.read_raw_brainvision(data, preload=True)\n",
      "C:\\Users\\UCM\\AppData\\Local\\Temp\\ipykernel_8624\\362719528.py:62: RuntimeWarning: The unit for channel(s) HEOG, HEOG+, VEOG, VEOG+ has changed from NA to V.\n",
      "  raw.set_channel_types({ch: 'eog' for ch in ocular_channels})\n"
     ]
    },
    {
     "name": "stdout",
     "output_type": "stream",
     "text": [
      "  - S03_vis_S3 - S4\n",
      "Extracting parameters from G:\\PROYECTO_SELF\\Data_self\\Export_acw_Brain_Vision\\S03_vis_S3 - S4.vhdr...\n",
      "Setting channel info structure...\n",
      "Reading 0 ... 96599  =      0.000 ...   193.198 secs...\n",
      "EEG channel type selected for re-referencing\n",
      "Applying a custom ('EEG',) reference.\n",
      "Not setting metadata\n",
      "21 matching events found\n",
      "No baseline correction applied\n",
      "0 projection items activated\n",
      "Using data from preloaded Raw for 21 events and 4600 original time points ...\n",
      "0 bad epochs dropped\n"
     ]
    },
    {
     "name": "stderr",
     "output_type": "stream",
     "text": [
      "C:\\Users\\UCM\\AppData\\Local\\Temp\\ipykernel_8624\\362719528.py:55: RuntimeWarning: No coordinate information found for channels ['HEOG+', 'HEOG', 'VEOG+', 'VEOG', 'M1', 'M2']. Setting channel types to misc. To avoid this warning, set channel types explicitly.\n",
      "  raw = mne.io.read_raw_brainvision(data, preload=True)\n",
      "C:\\Users\\UCM\\AppData\\Local\\Temp\\ipykernel_8624\\362719528.py:55: RuntimeWarning: Not setting positions of 7 misc channels found in montage:\n",
      "['HEOG+', 'HEOG', 'VEOG+', 'VEOG', 'M1', 'GSR', 'M2']\n",
      "Consider setting the channel types to be of EEG/sEEG/ECoG/DBS/fNIRS using inst.set_channel_types before calling inst.set_montage, or omit these channels when creating your montage.\n",
      "  raw = mne.io.read_raw_brainvision(data, preload=True)\n",
      "C:\\Users\\UCM\\AppData\\Local\\Temp\\ipykernel_8624\\362719528.py:62: RuntimeWarning: The unit for channel(s) HEOG, HEOG+, VEOG, VEOG+ has changed from NA to V.\n",
      "  raw.set_channel_types({ch: 'eog' for ch in ocular_channels})\n"
     ]
    },
    {
     "name": "stdout",
     "output_type": "stream",
     "text": [
      "  - S03_vis_S3 - S5\n",
      "Extracting parameters from G:\\PROYECTO_SELF\\Data_self\\Export_acw_Brain_Vision\\S03_vis_S3 - S5.vhdr...\n",
      "Setting channel info structure...\n",
      "Reading 0 ... 110399  =      0.000 ...   220.798 secs...\n",
      "EEG channel type selected for re-referencing\n",
      "Applying a custom ('EEG',) reference.\n",
      "Not setting metadata\n",
      "24 matching events found\n",
      "No baseline correction applied\n",
      "0 projection items activated\n",
      "Using data from preloaded Raw for 24 events and 4600 original time points ...\n"
     ]
    },
    {
     "name": "stderr",
     "output_type": "stream",
     "text": [
      "C:\\Users\\UCM\\AppData\\Local\\Temp\\ipykernel_8624\\362719528.py:55: RuntimeWarning: No coordinate information found for channels ['HEOG+', 'HEOG', 'VEOG+', 'VEOG', 'M1', 'M2']. Setting channel types to misc. To avoid this warning, set channel types explicitly.\n",
      "  raw = mne.io.read_raw_brainvision(data, preload=True)\n",
      "C:\\Users\\UCM\\AppData\\Local\\Temp\\ipykernel_8624\\362719528.py:55: RuntimeWarning: Not setting positions of 7 misc channels found in montage:\n",
      "['HEOG+', 'HEOG', 'VEOG+', 'VEOG', 'M1', 'GSR', 'M2']\n",
      "Consider setting the channel types to be of EEG/sEEG/ECoG/DBS/fNIRS using inst.set_channel_types before calling inst.set_montage, or omit these channels when creating your montage.\n",
      "  raw = mne.io.read_raw_brainvision(data, preload=True)\n",
      "C:\\Users\\UCM\\AppData\\Local\\Temp\\ipykernel_8624\\362719528.py:62: RuntimeWarning: The unit for channel(s) HEOG, HEOG+, VEOG, VEOG+ has changed from NA to V.\n",
      "  raw.set_channel_types({ch: 'eog' for ch in ocular_channels})\n"
     ]
    },
    {
     "name": "stdout",
     "output_type": "stream",
     "text": [
      "0 bad epochs dropped\n",
      "\n",
      "Procesando sujeto S04:\n",
      "  - S04_vis_S1 - S4\n",
      "Extracting parameters from G:\\PROYECTO_SELF\\Data_self\\Export_acw_Brain_Vision\\S04_vis_S1 - S4.vhdr...\n",
      "Setting channel info structure...\n",
      "Reading 0 ... 105799  =      0.000 ...   211.598 secs...\n",
      "EEG channel type selected for re-referencing\n",
      "Applying a custom ('EEG',) reference.\n",
      "Not setting metadata\n",
      "23 matching events found\n",
      "No baseline correction applied\n",
      "0 projection items activated\n",
      "Using data from preloaded Raw for 23 events and 4600 original time points ...\n",
      "0 bad epochs dropped\n"
     ]
    },
    {
     "name": "stderr",
     "output_type": "stream",
     "text": [
      "C:\\Users\\UCM\\AppData\\Local\\Temp\\ipykernel_8624\\362719528.py:55: RuntimeWarning: No coordinate information found for channels ['HEOG+', 'HEOG', 'VEOG+', 'VEOG', 'M1', 'M2']. Setting channel types to misc. To avoid this warning, set channel types explicitly.\n",
      "  raw = mne.io.read_raw_brainvision(data, preload=True)\n",
      "C:\\Users\\UCM\\AppData\\Local\\Temp\\ipykernel_8624\\362719528.py:55: RuntimeWarning: Not setting positions of 7 misc channels found in montage:\n",
      "['HEOG+', 'HEOG', 'VEOG+', 'VEOG', 'M1', 'GSR', 'M2']\n",
      "Consider setting the channel types to be of EEG/sEEG/ECoG/DBS/fNIRS using inst.set_channel_types before calling inst.set_montage, or omit these channels when creating your montage.\n",
      "  raw = mne.io.read_raw_brainvision(data, preload=True)\n",
      "C:\\Users\\UCM\\AppData\\Local\\Temp\\ipykernel_8624\\362719528.py:62: RuntimeWarning: The unit for channel(s) HEOG, HEOG+, VEOG, VEOG+ has changed from NA to V.\n",
      "  raw.set_channel_types({ch: 'eog' for ch in ocular_channels})\n"
     ]
    },
    {
     "name": "stdout",
     "output_type": "stream",
     "text": [
      "  - S04_vis_S1 - S5\n",
      "Extracting parameters from G:\\PROYECTO_SELF\\Data_self\\Export_acw_Brain_Vision\\S04_vis_S1 - S5.vhdr...\n",
      "Setting channel info structure...\n",
      "Reading 0 ... 82799  =      0.000 ...   165.598 secs...\n",
      "EEG channel type selected for re-referencing\n",
      "Applying a custom ('EEG',) reference.\n",
      "Not setting metadata\n",
      "18 matching events found\n",
      "No baseline correction applied\n",
      "0 projection items activated\n",
      "Using data from preloaded Raw for 18 events and 4600 original time points ...\n",
      "0 bad epochs dropped\n"
     ]
    },
    {
     "name": "stderr",
     "output_type": "stream",
     "text": [
      "C:\\Users\\UCM\\AppData\\Local\\Temp\\ipykernel_8624\\362719528.py:55: RuntimeWarning: No coordinate information found for channels ['HEOG+', 'HEOG', 'VEOG+', 'VEOG', 'M1', 'M2']. Setting channel types to misc. To avoid this warning, set channel types explicitly.\n",
      "  raw = mne.io.read_raw_brainvision(data, preload=True)\n",
      "C:\\Users\\UCM\\AppData\\Local\\Temp\\ipykernel_8624\\362719528.py:55: RuntimeWarning: Not setting positions of 7 misc channels found in montage:\n",
      "['HEOG+', 'HEOG', 'VEOG+', 'VEOG', 'M1', 'GSR', 'M2']\n",
      "Consider setting the channel types to be of EEG/sEEG/ECoG/DBS/fNIRS using inst.set_channel_types before calling inst.set_montage, or omit these channels when creating your montage.\n",
      "  raw = mne.io.read_raw_brainvision(data, preload=True)\n",
      "C:\\Users\\UCM\\AppData\\Local\\Temp\\ipykernel_8624\\362719528.py:62: RuntimeWarning: The unit for channel(s) HEOG, HEOG+, VEOG, VEOG+ has changed from NA to V.\n",
      "  raw.set_channel_types({ch: 'eog' for ch in ocular_channels})\n"
     ]
    },
    {
     "name": "stdout",
     "output_type": "stream",
     "text": [
      "  - S04_vis_S2 - S4\n",
      "Extracting parameters from G:\\PROYECTO_SELF\\Data_self\\Export_acw_Brain_Vision\\S04_vis_S2 - S4.vhdr...\n",
      "Setting channel info structure...\n",
      "Reading 0 ... 82799  =      0.000 ...   165.598 secs...\n",
      "EEG channel type selected for re-referencing\n",
      "Applying a custom ('EEG',) reference.\n",
      "Not setting metadata\n",
      "18 matching events found\n",
      "No baseline correction applied\n",
      "0 projection items activated\n",
      "Using data from preloaded Raw for 18 events and 4600 original time points ...\n",
      "0 bad epochs dropped\n"
     ]
    },
    {
     "name": "stderr",
     "output_type": "stream",
     "text": [
      "C:\\Users\\UCM\\AppData\\Local\\Temp\\ipykernel_8624\\362719528.py:55: RuntimeWarning: No coordinate information found for channels ['HEOG+', 'HEOG', 'VEOG+', 'VEOG', 'M1', 'M2']. Setting channel types to misc. To avoid this warning, set channel types explicitly.\n",
      "  raw = mne.io.read_raw_brainvision(data, preload=True)\n",
      "C:\\Users\\UCM\\AppData\\Local\\Temp\\ipykernel_8624\\362719528.py:55: RuntimeWarning: Not setting positions of 7 misc channels found in montage:\n",
      "['HEOG+', 'HEOG', 'VEOG+', 'VEOG', 'M1', 'GSR', 'M2']\n",
      "Consider setting the channel types to be of EEG/sEEG/ECoG/DBS/fNIRS using inst.set_channel_types before calling inst.set_montage, or omit these channels when creating your montage.\n",
      "  raw = mne.io.read_raw_brainvision(data, preload=True)\n",
      "C:\\Users\\UCM\\AppData\\Local\\Temp\\ipykernel_8624\\362719528.py:62: RuntimeWarning: The unit for channel(s) HEOG, HEOG+, VEOG, VEOG+ has changed from NA to V.\n",
      "  raw.set_channel_types({ch: 'eog' for ch in ocular_channels})\n"
     ]
    },
    {
     "name": "stdout",
     "output_type": "stream",
     "text": [
      "  - S04_vis_S2 - S5\n",
      "Extracting parameters from G:\\PROYECTO_SELF\\Data_self\\Export_acw_Brain_Vision\\S04_vis_S2 - S5.vhdr...\n",
      "Setting channel info structure...\n",
      "Reading 0 ... 114999  =      0.000 ...   229.998 secs...\n",
      "EEG channel type selected for re-referencing\n",
      "Applying a custom ('EEG',) reference.\n",
      "Not setting metadata\n",
      "25 matching events found\n",
      "No baseline correction applied\n",
      "0 projection items activated\n",
      "Using data from preloaded Raw for 25 events and 4600 original time points ...\n"
     ]
    },
    {
     "name": "stderr",
     "output_type": "stream",
     "text": [
      "C:\\Users\\UCM\\AppData\\Local\\Temp\\ipykernel_8624\\362719528.py:55: RuntimeWarning: No coordinate information found for channels ['HEOG+', 'HEOG', 'VEOG+', 'VEOG', 'M1', 'M2']. Setting channel types to misc. To avoid this warning, set channel types explicitly.\n",
      "  raw = mne.io.read_raw_brainvision(data, preload=True)\n",
      "C:\\Users\\UCM\\AppData\\Local\\Temp\\ipykernel_8624\\362719528.py:55: RuntimeWarning: Not setting positions of 7 misc channels found in montage:\n",
      "['HEOG+', 'HEOG', 'VEOG+', 'VEOG', 'M1', 'GSR', 'M2']\n",
      "Consider setting the channel types to be of EEG/sEEG/ECoG/DBS/fNIRS using inst.set_channel_types before calling inst.set_montage, or omit these channels when creating your montage.\n",
      "  raw = mne.io.read_raw_brainvision(data, preload=True)\n",
      "C:\\Users\\UCM\\AppData\\Local\\Temp\\ipykernel_8624\\362719528.py:62: RuntimeWarning: The unit for channel(s) HEOG, HEOG+, VEOG, VEOG+ has changed from NA to V.\n",
      "  raw.set_channel_types({ch: 'eog' for ch in ocular_channels})\n"
     ]
    },
    {
     "name": "stdout",
     "output_type": "stream",
     "text": [
      "0 bad epochs dropped\n",
      "  - S04_vis_S3 - S4\n",
      "Extracting parameters from G:\\PROYECTO_SELF\\Data_self\\Export_acw_Brain_Vision\\S04_vis_S3 - S4.vhdr...\n",
      "Setting channel info structure...\n",
      "Reading 0 ... 114999  =      0.000 ...   229.998 secs...\n",
      "EEG channel type selected for re-referencing\n",
      "Applying a custom ('EEG',) reference.\n",
      "Not setting metadata\n",
      "25 matching events found\n",
      "No baseline correction applied\n",
      "0 projection items activated\n",
      "Using data from preloaded Raw for 25 events and 4600 original time points ...\n"
     ]
    },
    {
     "name": "stderr",
     "output_type": "stream",
     "text": [
      "C:\\Users\\UCM\\AppData\\Local\\Temp\\ipykernel_8624\\362719528.py:55: RuntimeWarning: No coordinate information found for channels ['HEOG+', 'HEOG', 'VEOG+', 'VEOG', 'M1', 'M2']. Setting channel types to misc. To avoid this warning, set channel types explicitly.\n",
      "  raw = mne.io.read_raw_brainvision(data, preload=True)\n",
      "C:\\Users\\UCM\\AppData\\Local\\Temp\\ipykernel_8624\\362719528.py:55: RuntimeWarning: Not setting positions of 7 misc channels found in montage:\n",
      "['HEOG+', 'HEOG', 'VEOG+', 'VEOG', 'M1', 'GSR', 'M2']\n",
      "Consider setting the channel types to be of EEG/sEEG/ECoG/DBS/fNIRS using inst.set_channel_types before calling inst.set_montage, or omit these channels when creating your montage.\n",
      "  raw = mne.io.read_raw_brainvision(data, preload=True)\n",
      "C:\\Users\\UCM\\AppData\\Local\\Temp\\ipykernel_8624\\362719528.py:62: RuntimeWarning: The unit for channel(s) HEOG, HEOG+, VEOG, VEOG+ has changed from NA to V.\n",
      "  raw.set_channel_types({ch: 'eog' for ch in ocular_channels})\n"
     ]
    },
    {
     "name": "stdout",
     "output_type": "stream",
     "text": [
      "0 bad epochs dropped\n",
      "  - S04_vis_S3 - S5\n",
      "Extracting parameters from G:\\PROYECTO_SELF\\Data_self\\Export_acw_Brain_Vision\\S04_vis_S3 - S5.vhdr...\n",
      "Setting channel info structure...\n",
      "Reading 0 ... 110399  =      0.000 ...   220.798 secs...\n",
      "EEG channel type selected for re-referencing\n",
      "Applying a custom ('EEG',) reference.\n",
      "Not setting metadata\n",
      "24 matching events found\n",
      "No baseline correction applied\n",
      "0 projection items activated\n",
      "Using data from preloaded Raw for 24 events and 4600 original time points ...\n",
      "0 bad epochs dropped\n"
     ]
    },
    {
     "name": "stderr",
     "output_type": "stream",
     "text": [
      "C:\\Users\\UCM\\AppData\\Local\\Temp\\ipykernel_8624\\362719528.py:55: RuntimeWarning: No coordinate information found for channels ['HEOG+', 'HEOG', 'VEOG+', 'VEOG', 'M1', 'M2']. Setting channel types to misc. To avoid this warning, set channel types explicitly.\n",
      "  raw = mne.io.read_raw_brainvision(data, preload=True)\n",
      "C:\\Users\\UCM\\AppData\\Local\\Temp\\ipykernel_8624\\362719528.py:55: RuntimeWarning: Not setting positions of 7 misc channels found in montage:\n",
      "['HEOG+', 'HEOG', 'VEOG+', 'VEOG', 'M1', 'GSR', 'M2']\n",
      "Consider setting the channel types to be of EEG/sEEG/ECoG/DBS/fNIRS using inst.set_channel_types before calling inst.set_montage, or omit these channels when creating your montage.\n",
      "  raw = mne.io.read_raw_brainvision(data, preload=True)\n",
      "C:\\Users\\UCM\\AppData\\Local\\Temp\\ipykernel_8624\\362719528.py:62: RuntimeWarning: The unit for channel(s) HEOG, HEOG+, VEOG, VEOG+ has changed from NA to V.\n",
      "  raw.set_channel_types({ch: 'eog' for ch in ocular_channels})\n"
     ]
    },
    {
     "name": "stdout",
     "output_type": "stream",
     "text": [
      "\n",
      "Procesando sujeto S05:\n",
      "  - S05_vis1_S1 - S4\n",
      "Extracting parameters from G:\\PROYECTO_SELF\\Data_self\\Export_acw_Brain_Vision\\S05_vis1_S1 - S4.vhdr...\n",
      "Setting channel info structure...\n",
      "Reading 0 ... 105799  =      0.000 ...   211.598 secs...\n",
      "EEG channel type selected for re-referencing\n",
      "Applying a custom ('EEG',) reference.\n",
      "Not setting metadata\n",
      "23 matching events found\n",
      "No baseline correction applied\n",
      "0 projection items activated\n",
      "Using data from preloaded Raw for 23 events and 4600 original time points ...\n",
      "0 bad epochs dropped\n"
     ]
    },
    {
     "name": "stderr",
     "output_type": "stream",
     "text": [
      "C:\\Users\\UCM\\AppData\\Local\\Temp\\ipykernel_8624\\362719528.py:55: RuntimeWarning: No coordinate information found for channels ['HEOG+', 'HEOG', 'VEOG+', 'VEOG', 'M1', 'M2']. Setting channel types to misc. To avoid this warning, set channel types explicitly.\n",
      "  raw = mne.io.read_raw_brainvision(data, preload=True)\n",
      "C:\\Users\\UCM\\AppData\\Local\\Temp\\ipykernel_8624\\362719528.py:55: RuntimeWarning: Not setting positions of 7 misc channels found in montage:\n",
      "['HEOG+', 'HEOG', 'VEOG+', 'VEOG', 'M1', 'GSR', 'M2']\n",
      "Consider setting the channel types to be of EEG/sEEG/ECoG/DBS/fNIRS using inst.set_channel_types before calling inst.set_montage, or omit these channels when creating your montage.\n",
      "  raw = mne.io.read_raw_brainvision(data, preload=True)\n",
      "C:\\Users\\UCM\\AppData\\Local\\Temp\\ipykernel_8624\\362719528.py:62: RuntimeWarning: The unit for channel(s) HEOG, HEOG+, VEOG, VEOG+ has changed from NA to V.\n",
      "  raw.set_channel_types({ch: 'eog' for ch in ocular_channels})\n"
     ]
    },
    {
     "name": "stdout",
     "output_type": "stream",
     "text": [
      "  - S05_vis1_S1 - S5\n",
      "Extracting parameters from G:\\PROYECTO_SELF\\Data_self\\Export_acw_Brain_Vision\\S05_vis1_S1 - S5.vhdr...\n",
      "Setting channel info structure...\n",
      "Reading 0 ... 91999  =      0.000 ...   183.998 secs...\n",
      "EEG channel type selected for re-referencing\n",
      "Applying a custom ('EEG',) reference.\n",
      "Not setting metadata\n",
      "20 matching events found\n",
      "No baseline correction applied\n",
      "0 projection items activated\n",
      "Using data from preloaded Raw for 20 events and 4600 original time points ...\n",
      "0 bad epochs dropped\n"
     ]
    },
    {
     "name": "stderr",
     "output_type": "stream",
     "text": [
      "C:\\Users\\UCM\\AppData\\Local\\Temp\\ipykernel_8624\\362719528.py:55: RuntimeWarning: No coordinate information found for channels ['HEOG+', 'HEOG', 'VEOG+', 'VEOG', 'M1', 'M2']. Setting channel types to misc. To avoid this warning, set channel types explicitly.\n",
      "  raw = mne.io.read_raw_brainvision(data, preload=True)\n",
      "C:\\Users\\UCM\\AppData\\Local\\Temp\\ipykernel_8624\\362719528.py:55: RuntimeWarning: Not setting positions of 7 misc channels found in montage:\n",
      "['HEOG+', 'HEOG', 'VEOG+', 'VEOG', 'M1', 'GSR', 'M2']\n",
      "Consider setting the channel types to be of EEG/sEEG/ECoG/DBS/fNIRS using inst.set_channel_types before calling inst.set_montage, or omit these channels when creating your montage.\n",
      "  raw = mne.io.read_raw_brainvision(data, preload=True)\n",
      "C:\\Users\\UCM\\AppData\\Local\\Temp\\ipykernel_8624\\362719528.py:62: RuntimeWarning: The unit for channel(s) HEOG, HEOG+, VEOG, VEOG+ has changed from NA to V.\n",
      "  raw.set_channel_types({ch: 'eog' for ch in ocular_channels})\n"
     ]
    },
    {
     "name": "stdout",
     "output_type": "stream",
     "text": [
      "  - S05_vis1_S2 - S4\n",
      "Extracting parameters from G:\\PROYECTO_SELF\\Data_self\\Export_acw_Brain_Vision\\S05_vis1_S2 - S4.vhdr...\n",
      "Setting channel info structure...\n",
      "Reading 0 ... 101199  =      0.000 ...   202.398 secs...\n",
      "EEG channel type selected for re-referencing\n",
      "Applying a custom ('EEG',) reference.\n",
      "Not setting metadata\n",
      "22 matching events found\n",
      "No baseline correction applied\n",
      "0 projection items activated\n",
      "Using data from preloaded Raw for 22 events and 4600 original time points ...\n",
      "0 bad epochs dropped\n"
     ]
    },
    {
     "name": "stderr",
     "output_type": "stream",
     "text": [
      "C:\\Users\\UCM\\AppData\\Local\\Temp\\ipykernel_8624\\362719528.py:55: RuntimeWarning: No coordinate information found for channels ['HEOG+', 'HEOG', 'VEOG+', 'VEOG', 'M1', 'M2']. Setting channel types to misc. To avoid this warning, set channel types explicitly.\n",
      "  raw = mne.io.read_raw_brainvision(data, preload=True)\n",
      "C:\\Users\\UCM\\AppData\\Local\\Temp\\ipykernel_8624\\362719528.py:55: RuntimeWarning: Not setting positions of 7 misc channels found in montage:\n",
      "['HEOG+', 'HEOG', 'VEOG+', 'VEOG', 'M1', 'GSR', 'M2']\n",
      "Consider setting the channel types to be of EEG/sEEG/ECoG/DBS/fNIRS using inst.set_channel_types before calling inst.set_montage, or omit these channels when creating your montage.\n",
      "  raw = mne.io.read_raw_brainvision(data, preload=True)\n",
      "C:\\Users\\UCM\\AppData\\Local\\Temp\\ipykernel_8624\\362719528.py:62: RuntimeWarning: The unit for channel(s) HEOG, HEOG+, VEOG, VEOG+ has changed from NA to V.\n",
      "  raw.set_channel_types({ch: 'eog' for ch in ocular_channels})\n"
     ]
    },
    {
     "name": "stdout",
     "output_type": "stream",
     "text": [
      "  - S05_vis1_S2 - S5\n",
      "Extracting parameters from G:\\PROYECTO_SELF\\Data_self\\Export_acw_Brain_Vision\\S05_vis1_S2 - S5.vhdr...\n",
      "Setting channel info structure...\n",
      "Reading 0 ... 91999  =      0.000 ...   183.998 secs...\n",
      "EEG channel type selected for re-referencing\n",
      "Applying a custom ('EEG',) reference.\n",
      "Not setting metadata\n",
      "20 matching events found\n",
      "No baseline correction applied\n",
      "0 projection items activated\n",
      "Using data from preloaded Raw for 20 events and 4600 original time points ...\n",
      "0 bad epochs dropped\n"
     ]
    },
    {
     "name": "stderr",
     "output_type": "stream",
     "text": [
      "C:\\Users\\UCM\\AppData\\Local\\Temp\\ipykernel_8624\\362719528.py:55: RuntimeWarning: No coordinate information found for channels ['HEOG+', 'HEOG', 'VEOG+', 'VEOG', 'M1', 'M2']. Setting channel types to misc. To avoid this warning, set channel types explicitly.\n",
      "  raw = mne.io.read_raw_brainvision(data, preload=True)\n",
      "C:\\Users\\UCM\\AppData\\Local\\Temp\\ipykernel_8624\\362719528.py:55: RuntimeWarning: Not setting positions of 7 misc channels found in montage:\n",
      "['HEOG+', 'HEOG', 'VEOG+', 'VEOG', 'M1', 'GSR', 'M2']\n",
      "Consider setting the channel types to be of EEG/sEEG/ECoG/DBS/fNIRS using inst.set_channel_types before calling inst.set_montage, or omit these channels when creating your montage.\n",
      "  raw = mne.io.read_raw_brainvision(data, preload=True)\n",
      "C:\\Users\\UCM\\AppData\\Local\\Temp\\ipykernel_8624\\362719528.py:62: RuntimeWarning: The unit for channel(s) HEOG, HEOG+, VEOG, VEOG+ has changed from NA to V.\n",
      "  raw.set_channel_types({ch: 'eog' for ch in ocular_channels})\n"
     ]
    },
    {
     "name": "stdout",
     "output_type": "stream",
     "text": [
      "  - S05_vis1_S3 - S4\n",
      "Extracting parameters from G:\\PROYECTO_SELF\\Data_self\\Export_acw_Brain_Vision\\S05_vis1_S3 - S4.vhdr...\n",
      "Setting channel info structure...\n",
      "Reading 0 ... 96599  =      0.000 ...   193.198 secs...\n",
      "EEG channel type selected for re-referencing\n",
      "Applying a custom ('EEG',) reference.\n",
      "Not setting metadata\n",
      "21 matching events found\n",
      "No baseline correction applied\n",
      "0 projection items activated\n",
      "Using data from preloaded Raw for 21 events and 4600 original time points ...\n",
      "0 bad epochs dropped\n"
     ]
    },
    {
     "name": "stderr",
     "output_type": "stream",
     "text": [
      "C:\\Users\\UCM\\AppData\\Local\\Temp\\ipykernel_8624\\362719528.py:55: RuntimeWarning: No coordinate information found for channels ['HEOG+', 'HEOG', 'VEOG+', 'VEOG', 'M1', 'M2']. Setting channel types to misc. To avoid this warning, set channel types explicitly.\n",
      "  raw = mne.io.read_raw_brainvision(data, preload=True)\n",
      "C:\\Users\\UCM\\AppData\\Local\\Temp\\ipykernel_8624\\362719528.py:55: RuntimeWarning: Not setting positions of 7 misc channels found in montage:\n",
      "['HEOG+', 'HEOG', 'VEOG+', 'VEOG', 'M1', 'GSR', 'M2']\n",
      "Consider setting the channel types to be of EEG/sEEG/ECoG/DBS/fNIRS using inst.set_channel_types before calling inst.set_montage, or omit these channels when creating your montage.\n",
      "  raw = mne.io.read_raw_brainvision(data, preload=True)\n",
      "C:\\Users\\UCM\\AppData\\Local\\Temp\\ipykernel_8624\\362719528.py:62: RuntimeWarning: The unit for channel(s) HEOG, HEOG+, VEOG, VEOG+ has changed from NA to V.\n",
      "  raw.set_channel_types({ch: 'eog' for ch in ocular_channels})\n"
     ]
    },
    {
     "name": "stdout",
     "output_type": "stream",
     "text": [
      "  - S05_vis1_S3 - S5\n",
      "Extracting parameters from G:\\PROYECTO_SELF\\Data_self\\Export_acw_Brain_Vision\\S05_vis1_S3 - S5.vhdr...\n",
      "Setting channel info structure...\n",
      "Reading 0 ... 96599  =      0.000 ...   193.198 secs...\n",
      "EEG channel type selected for re-referencing\n",
      "Applying a custom ('EEG',) reference.\n",
      "Not setting metadata\n",
      "21 matching events found\n",
      "No baseline correction applied\n",
      "0 projection items activated\n",
      "Using data from preloaded Raw for 21 events and 4600 original time points ...\n",
      "0 bad epochs dropped\n"
     ]
    },
    {
     "name": "stderr",
     "output_type": "stream",
     "text": [
      "C:\\Users\\UCM\\AppData\\Local\\Temp\\ipykernel_8624\\362719528.py:55: RuntimeWarning: No coordinate information found for channels ['HEOG+', 'HEOG', 'VEOG+', 'VEOG', 'M1', 'M2']. Setting channel types to misc. To avoid this warning, set channel types explicitly.\n",
      "  raw = mne.io.read_raw_brainvision(data, preload=True)\n",
      "C:\\Users\\UCM\\AppData\\Local\\Temp\\ipykernel_8624\\362719528.py:55: RuntimeWarning: Not setting positions of 7 misc channels found in montage:\n",
      "['HEOG+', 'HEOG', 'VEOG+', 'VEOG', 'M1', 'GSR', 'M2']\n",
      "Consider setting the channel types to be of EEG/sEEG/ECoG/DBS/fNIRS using inst.set_channel_types before calling inst.set_montage, or omit these channels when creating your montage.\n",
      "  raw = mne.io.read_raw_brainvision(data, preload=True)\n",
      "C:\\Users\\UCM\\AppData\\Local\\Temp\\ipykernel_8624\\362719528.py:62: RuntimeWarning: The unit for channel(s) HEOG, HEOG+, VEOG, VEOG+ has changed from NA to V.\n",
      "  raw.set_channel_types({ch: 'eog' for ch in ocular_channels})\n"
     ]
    },
    {
     "name": "stdout",
     "output_type": "stream",
     "text": [
      "\n",
      "Procesando sujeto S06:\n",
      "  - S06_vis_S1 - S4\n",
      "Extracting parameters from G:\\PROYECTO_SELF\\Data_self\\Export_acw_Brain_Vision\\S06_vis_S1 - S4.vhdr...\n",
      "Setting channel info structure...\n",
      "Reading 0 ... 105799  =      0.000 ...   211.598 secs...\n",
      "EEG channel type selected for re-referencing\n",
      "Applying a custom ('EEG',) reference.\n",
      "Not setting metadata\n",
      "23 matching events found\n",
      "No baseline correction applied\n",
      "0 projection items activated\n",
      "Using data from preloaded Raw for 23 events and 4600 original time points ...\n",
      "0 bad epochs dropped\n"
     ]
    },
    {
     "name": "stderr",
     "output_type": "stream",
     "text": [
      "C:\\Users\\UCM\\AppData\\Local\\Temp\\ipykernel_8624\\362719528.py:55: RuntimeWarning: No coordinate information found for channels ['HEOG+', 'HEOG', 'VEOG+', 'VEOG', 'M1', 'M2']. Setting channel types to misc. To avoid this warning, set channel types explicitly.\n",
      "  raw = mne.io.read_raw_brainvision(data, preload=True)\n",
      "C:\\Users\\UCM\\AppData\\Local\\Temp\\ipykernel_8624\\362719528.py:55: RuntimeWarning: Not setting positions of 7 misc channels found in montage:\n",
      "['HEOG+', 'HEOG', 'VEOG+', 'VEOG', 'M1', 'GSR', 'M2']\n",
      "Consider setting the channel types to be of EEG/sEEG/ECoG/DBS/fNIRS using inst.set_channel_types before calling inst.set_montage, or omit these channels when creating your montage.\n",
      "  raw = mne.io.read_raw_brainvision(data, preload=True)\n",
      "C:\\Users\\UCM\\AppData\\Local\\Temp\\ipykernel_8624\\362719528.py:62: RuntimeWarning: The unit for channel(s) HEOG, HEOG+, VEOG, VEOG+ has changed from NA to V.\n",
      "  raw.set_channel_types({ch: 'eog' for ch in ocular_channels})\n"
     ]
    },
    {
     "name": "stdout",
     "output_type": "stream",
     "text": [
      "  - S06_vis_S1 - S5\n",
      "Extracting parameters from G:\\PROYECTO_SELF\\Data_self\\Export_acw_Brain_Vision\\S06_vis_S1 - S5.vhdr...\n",
      "Setting channel info structure...\n",
      "Reading 0 ... 110399  =      0.000 ...   220.798 secs...\n",
      "EEG channel type selected for re-referencing\n",
      "Applying a custom ('EEG',) reference.\n",
      "Not setting metadata\n",
      "24 matching events found\n",
      "No baseline correction applied\n",
      "0 projection items activated\n",
      "Using data from preloaded Raw for 24 events and 4600 original time points ...\n",
      "0 bad epochs dropped\n"
     ]
    },
    {
     "name": "stderr",
     "output_type": "stream",
     "text": [
      "C:\\Users\\UCM\\AppData\\Local\\Temp\\ipykernel_8624\\362719528.py:55: RuntimeWarning: No coordinate information found for channels ['HEOG+', 'HEOG', 'VEOG+', 'VEOG', 'M1', 'M2']. Setting channel types to misc. To avoid this warning, set channel types explicitly.\n",
      "  raw = mne.io.read_raw_brainvision(data, preload=True)\n",
      "C:\\Users\\UCM\\AppData\\Local\\Temp\\ipykernel_8624\\362719528.py:55: RuntimeWarning: Not setting positions of 7 misc channels found in montage:\n",
      "['HEOG+', 'HEOG', 'VEOG+', 'VEOG', 'M1', 'GSR', 'M2']\n",
      "Consider setting the channel types to be of EEG/sEEG/ECoG/DBS/fNIRS using inst.set_channel_types before calling inst.set_montage, or omit these channels when creating your montage.\n",
      "  raw = mne.io.read_raw_brainvision(data, preload=True)\n",
      "C:\\Users\\UCM\\AppData\\Local\\Temp\\ipykernel_8624\\362719528.py:62: RuntimeWarning: The unit for channel(s) HEOG, HEOG+, VEOG, VEOG+ has changed from NA to V.\n",
      "  raw.set_channel_types({ch: 'eog' for ch in ocular_channels})\n"
     ]
    },
    {
     "name": "stdout",
     "output_type": "stream",
     "text": [
      "  - S06_vis_S2 - S4\n",
      "Extracting parameters from G:\\PROYECTO_SELF\\Data_self\\Export_acw_Brain_Vision\\S06_vis_S2 - S4.vhdr...\n",
      "Setting channel info structure...\n",
      "Reading 0 ... 105799  =      0.000 ...   211.598 secs...\n",
      "EEG channel type selected for re-referencing\n",
      "Applying a custom ('EEG',) reference.\n",
      "Not setting metadata\n",
      "23 matching events found\n",
      "No baseline correction applied\n",
      "0 projection items activated\n",
      "Using data from preloaded Raw for 23 events and 4600 original time points ...\n",
      "0 bad epochs dropped\n"
     ]
    },
    {
     "name": "stderr",
     "output_type": "stream",
     "text": [
      "C:\\Users\\UCM\\AppData\\Local\\Temp\\ipykernel_8624\\362719528.py:55: RuntimeWarning: No coordinate information found for channels ['HEOG+', 'HEOG', 'VEOG+', 'VEOG', 'M1', 'M2']. Setting channel types to misc. To avoid this warning, set channel types explicitly.\n",
      "  raw = mne.io.read_raw_brainvision(data, preload=True)\n",
      "C:\\Users\\UCM\\AppData\\Local\\Temp\\ipykernel_8624\\362719528.py:55: RuntimeWarning: Not setting positions of 7 misc channels found in montage:\n",
      "['HEOG+', 'HEOG', 'VEOG+', 'VEOG', 'M1', 'GSR', 'M2']\n",
      "Consider setting the channel types to be of EEG/sEEG/ECoG/DBS/fNIRS using inst.set_channel_types before calling inst.set_montage, or omit these channels when creating your montage.\n",
      "  raw = mne.io.read_raw_brainvision(data, preload=True)\n",
      "C:\\Users\\UCM\\AppData\\Local\\Temp\\ipykernel_8624\\362719528.py:62: RuntimeWarning: The unit for channel(s) HEOG, HEOG+, VEOG, VEOG+ has changed from NA to V.\n",
      "  raw.set_channel_types({ch: 'eog' for ch in ocular_channels})\n"
     ]
    },
    {
     "name": "stdout",
     "output_type": "stream",
     "text": [
      "  - S06_vis_S2 - S5\n",
      "Extracting parameters from G:\\PROYECTO_SELF\\Data_self\\Export_acw_Brain_Vision\\S06_vis_S2 - S5.vhdr...\n",
      "Setting channel info structure...\n",
      "Reading 0 ... 110399  =      0.000 ...   220.798 secs...\n",
      "EEG channel type selected for re-referencing\n",
      "Applying a custom ('EEG',) reference.\n",
      "Not setting metadata\n",
      "24 matching events found\n",
      "No baseline correction applied\n",
      "0 projection items activated\n",
      "Using data from preloaded Raw for 24 events and 4600 original time points ...\n"
     ]
    },
    {
     "name": "stderr",
     "output_type": "stream",
     "text": [
      "C:\\Users\\UCM\\AppData\\Local\\Temp\\ipykernel_8624\\362719528.py:55: RuntimeWarning: No coordinate information found for channels ['HEOG+', 'HEOG', 'VEOG+', 'VEOG', 'M1', 'M2']. Setting channel types to misc. To avoid this warning, set channel types explicitly.\n",
      "  raw = mne.io.read_raw_brainvision(data, preload=True)\n",
      "C:\\Users\\UCM\\AppData\\Local\\Temp\\ipykernel_8624\\362719528.py:55: RuntimeWarning: Not setting positions of 7 misc channels found in montage:\n",
      "['HEOG+', 'HEOG', 'VEOG+', 'VEOG', 'M1', 'GSR', 'M2']\n",
      "Consider setting the channel types to be of EEG/sEEG/ECoG/DBS/fNIRS using inst.set_channel_types before calling inst.set_montage, or omit these channels when creating your montage.\n",
      "  raw = mne.io.read_raw_brainvision(data, preload=True)\n",
      "C:\\Users\\UCM\\AppData\\Local\\Temp\\ipykernel_8624\\362719528.py:62: RuntimeWarning: The unit for channel(s) HEOG, HEOG+, VEOG, VEOG+ has changed from NA to V.\n",
      "  raw.set_channel_types({ch: 'eog' for ch in ocular_channels})\n"
     ]
    },
    {
     "name": "stdout",
     "output_type": "stream",
     "text": [
      "0 bad epochs dropped\n",
      "  - S06_vis_S3 - S4\n",
      "Extracting parameters from G:\\PROYECTO_SELF\\Data_self\\Export_acw_Brain_Vision\\S06_vis_S3 - S4.vhdr...\n",
      "Setting channel info structure...\n",
      "Reading 0 ... 105799  =      0.000 ...   211.598 secs...\n",
      "EEG channel type selected for re-referencing\n",
      "Applying a custom ('EEG',) reference.\n",
      "Not setting metadata\n",
      "23 matching events found\n",
      "No baseline correction applied\n",
      "0 projection items activated\n",
      "Using data from preloaded Raw for 23 events and 4600 original time points ...\n"
     ]
    },
    {
     "name": "stderr",
     "output_type": "stream",
     "text": [
      "C:\\Users\\UCM\\AppData\\Local\\Temp\\ipykernel_8624\\362719528.py:55: RuntimeWarning: No coordinate information found for channels ['HEOG+', 'HEOG', 'VEOG+', 'VEOG', 'M1', 'M2']. Setting channel types to misc. To avoid this warning, set channel types explicitly.\n",
      "  raw = mne.io.read_raw_brainvision(data, preload=True)\n",
      "C:\\Users\\UCM\\AppData\\Local\\Temp\\ipykernel_8624\\362719528.py:55: RuntimeWarning: Not setting positions of 7 misc channels found in montage:\n",
      "['HEOG+', 'HEOG', 'VEOG+', 'VEOG', 'M1', 'GSR', 'M2']\n",
      "Consider setting the channel types to be of EEG/sEEG/ECoG/DBS/fNIRS using inst.set_channel_types before calling inst.set_montage, or omit these channels when creating your montage.\n",
      "  raw = mne.io.read_raw_brainvision(data, preload=True)\n",
      "C:\\Users\\UCM\\AppData\\Local\\Temp\\ipykernel_8624\\362719528.py:62: RuntimeWarning: The unit for channel(s) HEOG, HEOG+, VEOG, VEOG+ has changed from NA to V.\n",
      "  raw.set_channel_types({ch: 'eog' for ch in ocular_channels})\n"
     ]
    },
    {
     "name": "stdout",
     "output_type": "stream",
     "text": [
      "0 bad epochs dropped\n",
      "  - S06_vis_S3 - S5\n",
      "Extracting parameters from G:\\PROYECTO_SELF\\Data_self\\Export_acw_Brain_Vision\\S06_vis_S3 - S5.vhdr...\n",
      "Setting channel info structure...\n",
      "Reading 0 ... 110399  =      0.000 ...   220.798 secs...\n",
      "EEG channel type selected for re-referencing\n",
      "Applying a custom ('EEG',) reference.\n",
      "Not setting metadata\n",
      "24 matching events found\n",
      "No baseline correction applied\n",
      "0 projection items activated\n",
      "Using data from preloaded Raw for 24 events and 4600 original time points ...\n"
     ]
    },
    {
     "name": "stderr",
     "output_type": "stream",
     "text": [
      "C:\\Users\\UCM\\AppData\\Local\\Temp\\ipykernel_8624\\362719528.py:55: RuntimeWarning: No coordinate information found for channels ['HEOG+', 'HEOG', 'VEOG+', 'VEOG', 'M1', 'M2']. Setting channel types to misc. To avoid this warning, set channel types explicitly.\n",
      "  raw = mne.io.read_raw_brainvision(data, preload=True)\n",
      "C:\\Users\\UCM\\AppData\\Local\\Temp\\ipykernel_8624\\362719528.py:55: RuntimeWarning: Not setting positions of 7 misc channels found in montage:\n",
      "['HEOG+', 'HEOG', 'VEOG+', 'VEOG', 'M1', 'GSR', 'M2']\n",
      "Consider setting the channel types to be of EEG/sEEG/ECoG/DBS/fNIRS using inst.set_channel_types before calling inst.set_montage, or omit these channels when creating your montage.\n",
      "  raw = mne.io.read_raw_brainvision(data, preload=True)\n",
      "C:\\Users\\UCM\\AppData\\Local\\Temp\\ipykernel_8624\\362719528.py:62: RuntimeWarning: The unit for channel(s) HEOG, HEOG+, VEOG, VEOG+ has changed from NA to V.\n",
      "  raw.set_channel_types({ch: 'eog' for ch in ocular_channels})\n"
     ]
    },
    {
     "name": "stdout",
     "output_type": "stream",
     "text": [
      "0 bad epochs dropped\n"
     ]
    }
   ],
   "source": [
    "import re\n",
    "from pathlib import Path\n",
    "\n",
    "# Definir la carpeta donde buscar los archivos\n",
    "brain_vision_dir = Path(r'G:\\PROYECTO_SELF\\Data_self\\Export_acw_Brain_Vision')\n",
    "\n",
    "# Definir combinaciones posibles (Sx - Sy)\n",
    "combinaciones = [\"S1 - S4\",\"S1 - S5\", \"S2 - S4\", \"S2 - S5\", \"S3 - S4\", \"S3 - S5\"]\n",
    "\n",
    "# Crear un diccionario para almacenar los patrones\n",
    "patrones = {}\n",
    "\n",
    "# Generar patrones para S01 hasta S90\n",
    "for sujeto in range(1, 91):  # 01 a 90\n",
    "    sujeto_str = f\"S{sujeto:02d}\"  # Asegura formato S01, S02 ... S90\n",
    "    for combinacion in combinaciones:\n",
    "        clave = f\"{sujeto_str}_{combinacion}\"  # Ejemplo: S01_S1 - S5\n",
    "        patron = re.compile(rf\"^{sujeto_str}_vis\\d*_{combinacion}\\.vhdr$\")\n",
    "        patrones[clave] = patron\n",
    "\n",
    "# Obtener todos los archivos .vhdr en la carpeta\n",
    "archivos = list(brain_vision_dir.glob(\"*.vhdr\"))\n",
    "\n",
    "# Filtrar archivos que coincidan con los patrones generados\n",
    "archivos_filtrados = {nombre: [] for nombre in patrones.keys()}\n",
    "\n",
    "for archivo in archivos:\n",
    "    for nombre, patron in patrones.items():\n",
    "        if patron.match(archivo.name):\n",
    "            archivos_filtrados[nombre].append(archivo.name)\n",
    "\n",
    "# Agrupar archivos por sujeto (S01, S02, ...)\n",
    "archivos_por_sujeto = {}\n",
    "\n",
    "for nombre, archivos in archivos_filtrados.items():\n",
    "    if archivos:  # Solo muestra si hay archivos encontrados\n",
    "        sujeto = nombre.split(\"_\")[0]  # Extraer el sujeto (Ej: \"S01\")\n",
    "        if sujeto not in archivos_por_sujeto:\n",
    "            archivos_por_sujeto[sujeto] = []  # Crear lista para el sujeto\n",
    "        archivos_por_sujeto[sujeto].extend(archivos)  # Agregar archivos\n",
    "\n",
    "\n",
    "\n",
    "for sujeto, archivos in archivos_por_sujeto.items():\n",
    "    print(f\"\\nProcesando sujeto {sujeto}:\")\n",
    "\n",
    "    epocas_sujeto = {}  # Diccionario para almacenar las épocas por condición\n",
    "\n",
    "    for archivo in archivos:\n",
    "        file = archivo[:-5]  # Elimina los últimos 5 caracteres (\".vhdr\")\n",
    "        print(f\"  - {file}\")  # Muestra el nombre sin .vhdr\n",
    "        \n",
    "        # Leer el archivo BrainVision\n",
    "        data = brain_vision_dir / (file + \".vhdr\")\n",
    "        raw = mne.io.read_raw_brainvision(data, preload=True)\n",
    "\n",
    "        # Establecer M1 y M2 como referencia común\n",
    "        raw.set_eeg_reference(ref_channels=['M1', 'M2'])\n",
    "\n",
    "        # Marcar los canales oculares como EOG\n",
    "        ocular_channels = ['HEOG+', 'HEOG', 'VEOG+', 'VEOG']\n",
    "        raw.set_channel_types({ch: 'eog' for ch in ocular_channels})\n",
    "\n",
    "        # Marcar el canal GSR como tipo GSR\n",
    "        raw.set_channel_types({'GSR': 'misc'})  # GSR suele marcarse como 'misc' en MNE\n",
    "\n",
    "        # Extraer la condición (Ejemplo: \"S1 - S4\", \"S2 - S5\", etc.)\n",
    "        condicion = file.split(\"_\")[-1]  # Toma la última parte después de \"_\"\n",
    "\n",
    "        # Crear epochs de 9.2s\n",
    "        epochs = mne.make_fixed_length_epochs(\n",
    "            raw,duration=9.2, reject_by_annotation=True, preload=True\n",
    "        )\n",
    "\n",
    "        subj_fif = fif_data / f\"{sujeto}_epochs\"\n",
    "        subj_fif.mkdir(parents=True, exist_ok=True)\n",
    "\n",
    "        epochs.save(subj_fif /f\"{sujeto}_{condicion}-epo.fif\", overwrite=True)"
   ]
  }
 ],
 "metadata": {
  "kernelspec": {
   "display_name": "env_meg",
   "language": "python",
   "name": "python3"
  },
  "language_info": {
   "codemirror_mode": {
    "name": "ipython",
    "version": 3
   },
   "file_extension": ".py",
   "mimetype": "text/x-python",
   "name": "python",
   "nbconvert_exporter": "python",
   "pygments_lexer": "ipython3",
   "version": "3.13.2"
  }
 },
 "nbformat": 4,
 "nbformat_minor": 2
}
