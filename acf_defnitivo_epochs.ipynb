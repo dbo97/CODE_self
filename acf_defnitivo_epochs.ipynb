{
 "cells": [
  {
   "cell_type": "code",
   "execution_count": 2,
   "metadata": {},
   "outputs": [],
   "source": [
    "##modules\n",
    "#%matplotlib widget\n",
    "#%matplotlib inline\n",
    "#\n",
    "#%matplotlib qt\n",
    "import mne\n",
    "import numpy as np\n",
    "import matplotlib\n",
    "# Establecer un backend interactivo, como 'Qt5Agg', 'GTK3Agg', etc.\n",
    "# Esto depende de los backends disponibles en tu sistema.\n",
    "\n",
    "import matplotlib.pyplot as plt\n",
    "\n",
    "matplotlib.use('TkAgg')  # Asegúrate de que este backend está instalado.\n",
    "\n",
    "import pandas as pd \n",
    "import os\n",
    "import sys\n",
    "\n",
    "from mne.preprocessing import ICA, corrmap, create_ecg_epochs, create_eog_epochs\n",
    "\n",
    "from os.path import join as pathjoin\n",
    "from time import time\n",
    "\n",
    "from pathlib import Path\n",
    "\n",
    "from autoreject import AutoReject"
   ]
  },
  {
   "cell_type": "code",
   "execution_count": 3,
   "metadata": {},
   "outputs": [],
   "source": [
    "# Variables path\n",
    "layer_script = \"block\"\n",
    "\n",
    "#process=\"\"\n",
    "disco=\"g\"\n",
    "\n",
    "subj = \"S01\"\n",
    "\n",
    "#subj = sys.argv[1] ## name of participant list\n",
    "\n",
    "# Carpeta general\n",
    "datadir = Path(f\"{disco}:\\\\PROYECTO_SELF\")\n",
    "\n",
    "# #carpetas generales de datos\n",
    "brain_vision_dir = datadir /\"Data_self\"/\"Export_acw_Brain_Vision\"\n",
    "fif_data = datadir /\"Data_self\"/ \"fif_data\" \n",
    "\n",
    "\n",
    "#carpeta analysis\n",
    "output_analysis= datadir / \"output_analysis\"\n",
    "\n",
    "acw_analysis_path = output_analysis / \"acw\"\n",
    "acw_analysis_path.mkdir(parents=True, exist_ok=True)\n",
    "\n",
    "# # Carpeta de preprocesado\n",
    "# output_preproc = datadir / \"output_preproc\"\n",
    "\n",
    "# preproc_path = output_preproc / f\"preproc_{layer_script}\"\n",
    "# preproc_path.mkdir(parents=True, exist_ok=True)\n",
    " \n",
    "# # Carpeta de epocas \"sucias\"\n",
    "# epochs_path = preproc_path / f\"epochs_{layer_script}\"\n",
    "# epochs_path.mkdir(parents=True, exist_ok=True) \n",
    "\n",
    "# # Carpeta de ICA\n",
    "# ICA_path = preproc_path / f\"ICA_{layer_script}\"\n",
    "# ICA_path.mkdir(parents=True, exist_ok=True)\n",
    "\n",
    "# # Épocas limpias\n",
    "# epochs_clean_path = preproc_path / f\"epochs_clean_{layer_script}\"\n",
    "# epochs_clean_path.mkdir(parents=True, exist_ok=True)\n",
    "\n",
    "# #epocas epochs\n",
    "# epochs_path = Path(preproc_path) / f\"epochs_{layer_script}\"\n",
    "# epochs_path.mkdir(parents=True, exist_ok=True)\n",
    " \n",
    "\n",
    "# # Definir la carpeta de output_source antes de usarla\n",
    "# output_source = Path(r\"g:\\MOUS_204\\output_source\")\n",
    "\n",
    "# source_path = output_source / f\"source_{layer_script}\"\n",
    "# source_path.mkdir(parents=True, exist_ok=True)\n",
    "\n",
    "# #raw_hsp es el raw con fiducials cargados\n",
    "# raw_hsp_path = source_path / f\"raw_hsp\"\n",
    "# raw_hsp_path.mkdir(parents=True, exist_ok=True)\n",
    "\n",
    "# # Carpeta de forward solution\n",
    "# fwd_path = source_path / f\"fwd\"\n",
    "# fwd_path.mkdir(parents=True, exist_ok=True)\n",
    "\n",
    "# # Carpeta de inverse solution\n",
    "# inverse_path = source_path / f\"inverse\"\n",
    "# inverse_path.mkdir(parents=True, exist_ok=True)\n",
    "\n",
    "\n",
    "# mne.utils.set_config('SUBJECTS_DIR', r'\\\\wsl$\\Ubuntu-20.04\\usr\\local\\freesurfer\\subjects', set_env=True)\n"
   ]
  },
  {
   "cell_type": "code",
   "execution_count": 173,
   "metadata": {},
   "outputs": [
    {
     "name": "stdout",
     "output_type": "stream",
     "text": [
      "Reading g:\\PROYECTO_SELF\\Data_self\\fif_data\\S01_epochs\\S01_S1 - S5-epo.fif ...\n",
      "    Found the data of interest:\n",
      "        t =       0.00 ...    9198.00 ms\n",
      "        0 CTF compensation matrices available\n",
      "Not setting metadata\n",
      "21 matching events found\n",
      "No baseline correction applied\n",
      "0 projection items activated\n"
     ]
    }
   ],
   "source": [
    "\n",
    "#epochs\n",
    "combinaciones = [\"S1 - S4\",\"S1 - S5\", \"S2 - S4\", \"S2 - S5\", \"S3 - S4\", \"S3 - S5\"]\n",
    "\n",
    "combinacion= combinaciones[1]\n",
    "\n",
    "# Obtener todos los archivos y carpetas dentro de la ruta\n",
    "subjects = list(fif_data.iterdir())\n",
    "\n",
    "# Filtrar solo los nombres de sujetos (removiendo \"_epochs\")\n",
    "subject_names = [subject.stem.replace(\"_epochs\", \"\") for subject in subjects]\n",
    "\n",
    "subj=subject_names[0]\n",
    "subj\n",
    "\n",
    "\n",
    "# # epochs_zinnen_path = epochs_clean_path / f\"{subj}_epochs_zinnen_{type_script}\"\n",
    "# # epochs_path = epochs_clean_path / f\"{subj}_epochs_{type_script}\"\n",
    "\n",
    "path_epochs= fif_data / f\"{subj}_epochs\" / f\"{subj}_{combinacion}-epo.fif\"\n",
    "\n",
    "epochs = mne.read_epochs(path_epochs) \n",
    "\n",
    "\n",
    "\n"
   ]
  },
  {
   "cell_type": "code",
   "execution_count": 171,
   "metadata": {},
   "outputs": [],
   "source": [
    "# aplicar la acf EN epochs\n",
    "\n",
    "from statsmodels.tsa.stattools import acf\n",
    "import numpy as np\n",
    "\n",
    "import pandas as pd\n",
    "\n",
    "def acf_epochs(epochs, isplot=False): \n",
    "    \n",
    "    #import epochs object and get data ONLY ON MEG DATA\n",
    "    data_epochs=epochs.copy().pick(\"eeg\").get_data()\n",
    "\n",
    "    #get duration\n",
    "    duration= epochs.tmax - epochs.tmin\n",
    "    #get sample frequency\n",
    "    sfreq= epochs.info['sfreq']\n",
    "    #get lags\n",
    "    lags=duration*sfreq\n",
    "\n",
    "    del epochs\n",
    "\n",
    "    #list to store the values of acf, acw_50,acw_0 for each epoch for each sensor for each EPOCH\n",
    "    acf_epoch_all = []\n",
    "\n",
    "    #conjunto de todos los valroes de ACW_0-ACW_50 para cada sensor en cada epoca\n",
    "    acw_50_epoch_all = []\n",
    "    acw_0_epoch_all = []\n",
    "\n",
    "    #promedio de valores de acw_50 y acw_0 para cada epoca (el promedio de todos los sensores en una epoca)\n",
    "    acw_50_epoch_all_mean = []\n",
    "    acw_0_epoch_all_mean = []\n",
    "\n",
    "    #for each epoch\n",
    "      \n",
    "    for j in range(0,len(data_epochs)):\n",
    "        #take data for each epoch\n",
    "        data_epoch=data_epochs[j]\n",
    "\n",
    "        #list to store the values of acf, acw_50,acw_0 for each SENSOR for each EPOCH\n",
    "\n",
    "        acf_elect_all = []\n",
    "        acf_elect_all_mean = []\n",
    "\n",
    "        acw_50_elect_all = []\n",
    "        acw_0_elect_all = []\n",
    "\n",
    "    \n",
    "\n",
    "\n",
    "        #calculus of value  for EACH SENSOR\n",
    "        for i in range(0,len(data_epoch)):\n",
    "            #lags se puede dejar por defecto porque te cogelos valores\n",
    "            #hasta los que tiene sentido calcularlo, aunque yo voy a calcularlo para todos los lags\n",
    "            #calculo de acf de sensor\n",
    "            #alfa lo dejo endefault que es la confianza del 95% \n",
    "\n",
    "            acf_elect, qstat_vals, pvals = acf(\n",
    "                data_epoch[i],\n",
    "                adjusted=True,\n",
    "                fft=True,\n",
    "                qstat=True,\n",
    "                nlags=lags\n",
    "            )\n",
    "\n",
    "            #conjunto de valores de acf en un electrodo en una epoca\n",
    "            acf_elect_all.append(acf_elect)\n",
    "            #promedio de valores de acf en un electrodo en una epoca\n",
    "            acf_elect_all_mean.append(np.mean(acf_elect))\n",
    "\n",
    "\n",
    "            #calculo de acw_50 y acw_0 de sensor for both in lags and in seconds\n",
    "            #recuerda que acw_50 y acw_0 son valores unicos, no como acf que es un conjunto de valores\n",
    "            acw_50_elect_lags = np.argmax(acf_elect <= 0.5)\n",
    "            acw_50_elect_s = acw_50_elect_lags / sfreq\n",
    "            acw_50_elect_all.append(acw_50_elect_s)\n",
    "\n",
    "\n",
    "            acw_0_elect_lags = np.argmax(acf_elect <= 0)\n",
    "            acw_0_elect_s = acw_0_elect_lags / sfreq\n",
    "            acw_0_elect_all.append(acw_0_elect_s)\n",
    "\n",
    "\n",
    "        #\n",
    "        acw_50_epoch_all.append(acw_50_elect_all)\n",
    "        acw_0_epoch_all.append(acw_0_elect_all)\n",
    "        acf_epoch_all.append(acf_elect_all)\n",
    "\n",
    "\n",
    "        acw_50_epoch_all_mean.append(np.mean(acw_50_elect_all))\n",
    "        acw_0_epoch_all_mean.append(np.mean(acw_0_elect_all))\n",
    "       \n",
    "        #promedio de los electrodos en todas las epocas\n",
    "        # Convertir la lista de listas en un array de NumPy para cálculos más eficientes\n",
    "        acw_50_epoch_all_array = np.array(acw_50_epoch_all)  # (21 filas, 59 columnas)\n",
    "        # Calcular el promedio a lo largo de las columnas (axis=0) → Promedio por electrodo en cada época\n",
    "        promedio_ACW_50_electrodos = np.mean(acw_50_epoch_all_array, axis=0)\n",
    "\n",
    "        acw_0_epoch_all_array = np.array(acw_0_epoch_all)  # (21 filas, 59 columnas)\n",
    "        # Calcular el promedio a lo largo de las columnas (axis=0) → Promedio por electrodo en cada época       \n",
    "        promedio_ACW_0_electrodos = np.mean(acw_0_epoch_all_array, axis=0)\n",
    "    \n",
    "    # #transformation of list to array\n",
    "    # acf_elect_all=np.array(acf_elect_all)\n",
    "    # acw_50_elect_all_s=np.array(acw_50_elect_all_s)\n",
    "    # acw_0_elect_all_s=np.array(acw_0_elect_all_s)\n",
    "\n",
    "\n",
    "\n",
    "\n",
    "    # # Crear un DataFrame con las columnas necesarias\n",
    "\n",
    "    table_autocorrelation = pd.DataFrame({\n",
    "        'Subject': [subj] * len(acf_epoch_all),  # Repite el sujeto para todas las filas\n",
    "        'Combination': [combinacion] * len(acf_epoch_all),  # Repite la combinación para todas las filas\n",
    "        \"Epoch\": range(1, len(acf_epoch_all) + 1),  # Número de épocas\n",
    "        'ACF_epoch': acf_epoch_all,\n",
    "        'ACW_50_epoch': acw_50_epoch_all,\n",
    "        'ACW_0_epoch': acw_0_epoch_all,\n",
    "        'ACW_50_epoch_mean': acw_50_epoch_all_mean,\n",
    "        'ACW_0_epoch_mean': acw_0_epoch_all_mean,\n",
    "        \"promedio_ACW_50_electrodos\": [promedio_ACW_50_electrodos] * len(acf_epoch_all),\n",
    "        \"promedio_ACW_0_electrodos\": [promedio_ACW_0_electrodos] * len(acf_epoch_all)\n",
    "        })\n",
    "\n",
    "    #identificar acw_50\n",
    "\n",
    "\n",
    "    #valores de estadística\n",
    "        ## pero ver que valores son puto significativos de la ACF o de la ACW??\n",
    "\n",
    "\n",
    "\n",
    "    isplot=False    \n",
    "\n",
    "    # if isplot==True:\n",
    "    #     # 1) Creamos un vector de lags en segundos,\n",
    "    #     #    asumiendo que acf_val tiene tantos puntos como lags + 1.\n",
    "    #     time_lags = np.arange(len(acf_val)) / sfreq\n",
    "\n",
    "    #     # 2) Convertimos los índices (entero) de ACW_50 y ACW_0\n",
    "    #     ACW_50_i = int(acw_50_lags)\n",
    "    #     ACW_0_i = int(acw_0_lags)\n",
    "\n",
    "    #     # 3) Figura\n",
    "    #     plt.figure(figsize=(8, 4))\n",
    "\n",
    "    #     # 4) Dibujamos la ACF en negro\n",
    "    #     plt.plot(time_lags, acf_val, 'k', label='ACF')\n",
    "\n",
    "    #     # 5) Acotamos el eje X a la duración total de la señal (o a lo que consideres)\n",
    "    #     plt.xlim([0, time_lags[-1]])\n",
    "\n",
    "    #     # 6) Rellenamos el área hasta ACW_50\n",
    "    #     plt.fill_between(\n",
    "    #         time_lags[:ACW_50_i + 1],\n",
    "    #         acf_val[:ACW_50_i + 1],\n",
    "    #         color='r', alpha=0.3, label='ACW-50 area'\n",
    "    #     )\n",
    "\n",
    "    #     # 7) Rellenamos el área hasta ACW_0\n",
    "    #     plt.fill_between(\n",
    "    #         time_lags[:ACW_0_i + 1],\n",
    "    #         acf_val[:ACW_0_i + 1],\n",
    "    #         color='m', alpha=0.3, label='ACW-0 area'\n",
    "    #     )\n",
    "\n",
    "    #     # 8) Título con valores de ACW\n",
    "    #     plt.title(f'ACW-0 = {acw_0_s:.1f} s    ACW-50 = {acw_50_s:.1f} s')\n",
    "    #     plt.xlabel('Lags (s)')\n",
    "    #     plt.ylabel('Autocorrelation')\n",
    "    #     plt.legend(loc='best')\n",
    "    #     plt.show()\n",
    "\n",
    "    return table_autocorrelation\n",
    "    # return acf_epoch_all,acw_50_epoch_all, acw_0_epoch_all\n",
    "\n",
    "\n"
   ]
  },
  {
   "cell_type": "code",
   "execution_count": 174,
   "metadata": {},
   "outputs": [
    {
     "name": "stderr",
     "output_type": "stream",
     "text": [
      "C:\\Users\\UCM\\AppData\\Local\\Temp\\ipykernel_9048\\3536539863.py:11: FutureWarning: The current default of copy=False will change to copy=True in 1.7. Set the value of copy explicitly to avoid this warning\n",
      "  data_epochs=epochs.copy().pick(\"eeg\").get_data()\n"
     ]
    }
   ],
   "source": [
    "table_autocorrelation= acf_epochs(epochs, isplot=False)"
   ]
  },
  {
   "cell_type": "code",
   "execution_count": 178,
   "metadata": {},
   "outputs": [
    {
     "name": "stdout",
     "output_type": "stream",
     "text": [
      "Reading g:\\PROYECTO_SELF\\Data_self\\fif_data\\S01_epochs\\S01_S1 - S4-epo.fif ...\n",
      "    Found the data of interest:\n",
      "        t =       0.00 ...    9198.00 ms\n",
      "        0 CTF compensation matrices available\n",
      "Not setting metadata\n",
      "19 matching events found\n",
      "No baseline correction applied\n",
      "0 projection items activated\n"
     ]
    },
    {
     "name": "stderr",
     "output_type": "stream",
     "text": [
      "C:\\Users\\UCM\\AppData\\Local\\Temp\\ipykernel_9048\\3536539863.py:11: FutureWarning: The current default of copy=False will change to copy=True in 1.7. Set the value of copy explicitly to avoid this warning\n",
      "  data_epochs=epochs.copy().pick(\"eeg\").get_data()\n"
     ]
    },
    {
     "name": "stdout",
     "output_type": "stream",
     "text": [
      "Reading g:\\PROYECTO_SELF\\Data_self\\fif_data\\S01_epochs\\S01_S1 - S5-epo.fif ...\n",
      "    Found the data of interest:\n",
      "        t =       0.00 ...    9198.00 ms\n",
      "        0 CTF compensation matrices available\n",
      "Not setting metadata\n",
      "21 matching events found\n",
      "No baseline correction applied\n",
      "0 projection items activated\n"
     ]
    },
    {
     "name": "stderr",
     "output_type": "stream",
     "text": [
      "C:\\Users\\UCM\\AppData\\Local\\Temp\\ipykernel_9048\\3536539863.py:11: FutureWarning: The current default of copy=False will change to copy=True in 1.7. Set the value of copy explicitly to avoid this warning\n",
      "  data_epochs=epochs.copy().pick(\"eeg\").get_data()\n"
     ]
    },
    {
     "name": "stdout",
     "output_type": "stream",
     "text": [
      "Reading g:\\PROYECTO_SELF\\Data_self\\fif_data\\S01_epochs\\S01_S2 - S4-epo.fif ...\n",
      "    Found the data of interest:\n",
      "        t =       0.00 ...    9198.00 ms\n",
      "        0 CTF compensation matrices available\n",
      "Not setting metadata\n",
      "17 matching events found\n",
      "No baseline correction applied\n",
      "0 projection items activated\n"
     ]
    },
    {
     "name": "stderr",
     "output_type": "stream",
     "text": [
      "C:\\Users\\UCM\\AppData\\Local\\Temp\\ipykernel_9048\\3536539863.py:11: FutureWarning: The current default of copy=False will change to copy=True in 1.7. Set the value of copy explicitly to avoid this warning\n",
      "  data_epochs=epochs.copy().pick(\"eeg\").get_data()\n"
     ]
    },
    {
     "name": "stdout",
     "output_type": "stream",
     "text": [
      "Reading g:\\PROYECTO_SELF\\Data_self\\fif_data\\S01_epochs\\S01_S2 - S5-epo.fif ...\n",
      "    Found the data of interest:\n",
      "        t =       0.00 ...    9198.00 ms\n",
      "        0 CTF compensation matrices available\n",
      "Not setting metadata\n",
      "20 matching events found\n",
      "No baseline correction applied\n",
      "0 projection items activated\n"
     ]
    },
    {
     "name": "stderr",
     "output_type": "stream",
     "text": [
      "C:\\Users\\UCM\\AppData\\Local\\Temp\\ipykernel_9048\\3536539863.py:11: FutureWarning: The current default of copy=False will change to copy=True in 1.7. Set the value of copy explicitly to avoid this warning\n",
      "  data_epochs=epochs.copy().pick(\"eeg\").get_data()\n"
     ]
    },
    {
     "name": "stdout",
     "output_type": "stream",
     "text": [
      "Reading g:\\PROYECTO_SELF\\Data_self\\fif_data\\S01_epochs\\S01_S3 - S4-epo.fif ...\n",
      "    Found the data of interest:\n",
      "        t =       0.00 ...    9198.00 ms\n",
      "        0 CTF compensation matrices available\n",
      "Not setting metadata\n",
      "22 matching events found\n",
      "No baseline correction applied\n",
      "0 projection items activated\n"
     ]
    },
    {
     "name": "stderr",
     "output_type": "stream",
     "text": [
      "C:\\Users\\UCM\\AppData\\Local\\Temp\\ipykernel_9048\\3536539863.py:11: FutureWarning: The current default of copy=False will change to copy=True in 1.7. Set the value of copy explicitly to avoid this warning\n",
      "  data_epochs=epochs.copy().pick(\"eeg\").get_data()\n"
     ]
    },
    {
     "name": "stdout",
     "output_type": "stream",
     "text": [
      "Reading g:\\PROYECTO_SELF\\Data_self\\fif_data\\S01_epochs\\S01_S3 - S5-epo.fif ...\n",
      "    Found the data of interest:\n",
      "        t =       0.00 ...    9198.00 ms\n",
      "        0 CTF compensation matrices available\n",
      "Not setting metadata\n",
      "19 matching events found\n",
      "No baseline correction applied\n",
      "0 projection items activated\n"
     ]
    },
    {
     "name": "stderr",
     "output_type": "stream",
     "text": [
      "C:\\Users\\UCM\\AppData\\Local\\Temp\\ipykernel_9048\\3536539863.py:11: FutureWarning: The current default of copy=False will change to copy=True in 1.7. Set the value of copy explicitly to avoid this warning\n",
      "  data_epochs=epochs.copy().pick(\"eeg\").get_data()\n"
     ]
    },
    {
     "name": "stdout",
     "output_type": "stream",
     "text": [
      "Reading g:\\PROYECTO_SELF\\Data_self\\fif_data\\S02_epochs\\S02_S1 - S4-epo.fif ...\n",
      "    Found the data of interest:\n",
      "        t =       0.00 ...    9198.00 ms\n",
      "        0 CTF compensation matrices available\n",
      "Not setting metadata\n",
      "23 matching events found\n",
      "No baseline correction applied\n",
      "0 projection items activated\n"
     ]
    },
    {
     "name": "stderr",
     "output_type": "stream",
     "text": [
      "C:\\Users\\UCM\\AppData\\Local\\Temp\\ipykernel_9048\\3536539863.py:11: FutureWarning: The current default of copy=False will change to copy=True in 1.7. Set the value of copy explicitly to avoid this warning\n",
      "  data_epochs=epochs.copy().pick(\"eeg\").get_data()\n"
     ]
    },
    {
     "name": "stdout",
     "output_type": "stream",
     "text": [
      "Reading g:\\PROYECTO_SELF\\Data_self\\fif_data\\S02_epochs\\S02_S1 - S5-epo.fif ...\n",
      "    Found the data of interest:\n",
      "        t =       0.00 ...    9198.00 ms\n",
      "        0 CTF compensation matrices available\n",
      "Not setting metadata\n",
      "22 matching events found\n",
      "No baseline correction applied\n",
      "0 projection items activated\n"
     ]
    },
    {
     "name": "stderr",
     "output_type": "stream",
     "text": [
      "C:\\Users\\UCM\\AppData\\Local\\Temp\\ipykernel_9048\\3536539863.py:11: FutureWarning: The current default of copy=False will change to copy=True in 1.7. Set the value of copy explicitly to avoid this warning\n",
      "  data_epochs=epochs.copy().pick(\"eeg\").get_data()\n"
     ]
    },
    {
     "name": "stdout",
     "output_type": "stream",
     "text": [
      "Reading g:\\PROYECTO_SELF\\Data_self\\fif_data\\S02_epochs\\S02_S2 - S4-epo.fif ...\n",
      "    Found the data of interest:\n",
      "        t =       0.00 ...    9198.00 ms\n",
      "        0 CTF compensation matrices available\n",
      "Not setting metadata\n",
      "23 matching events found\n",
      "No baseline correction applied\n",
      "0 projection items activated\n"
     ]
    },
    {
     "name": "stderr",
     "output_type": "stream",
     "text": [
      "C:\\Users\\UCM\\AppData\\Local\\Temp\\ipykernel_9048\\3536539863.py:11: FutureWarning: The current default of copy=False will change to copy=True in 1.7. Set the value of copy explicitly to avoid this warning\n",
      "  data_epochs=epochs.copy().pick(\"eeg\").get_data()\n"
     ]
    },
    {
     "name": "stdout",
     "output_type": "stream",
     "text": [
      "Reading g:\\PROYECTO_SELF\\Data_self\\fif_data\\S02_epochs\\S02_S2 - S5-epo.fif ...\n",
      "    Found the data of interest:\n",
      "        t =       0.00 ...    9198.00 ms\n",
      "        0 CTF compensation matrices available\n",
      "Not setting metadata\n",
      "23 matching events found\n",
      "No baseline correction applied\n",
      "0 projection items activated\n"
     ]
    },
    {
     "name": "stderr",
     "output_type": "stream",
     "text": [
      "C:\\Users\\UCM\\AppData\\Local\\Temp\\ipykernel_9048\\3536539863.py:11: FutureWarning: The current default of copy=False will change to copy=True in 1.7. Set the value of copy explicitly to avoid this warning\n",
      "  data_epochs=epochs.copy().pick(\"eeg\").get_data()\n"
     ]
    },
    {
     "name": "stdout",
     "output_type": "stream",
     "text": [
      "Reading g:\\PROYECTO_SELF\\Data_self\\fif_data\\S02_epochs\\S02_S3 - S4-epo.fif ...\n",
      "    Found the data of interest:\n",
      "        t =       0.00 ...    9198.00 ms\n",
      "        0 CTF compensation matrices available\n",
      "Not setting metadata\n",
      "23 matching events found\n",
      "No baseline correction applied\n",
      "0 projection items activated\n"
     ]
    },
    {
     "name": "stderr",
     "output_type": "stream",
     "text": [
      "C:\\Users\\UCM\\AppData\\Local\\Temp\\ipykernel_9048\\3536539863.py:11: FutureWarning: The current default of copy=False will change to copy=True in 1.7. Set the value of copy explicitly to avoid this warning\n",
      "  data_epochs=epochs.copy().pick(\"eeg\").get_data()\n"
     ]
    },
    {
     "name": "stdout",
     "output_type": "stream",
     "text": [
      "Reading g:\\PROYECTO_SELF\\Data_self\\fif_data\\S02_epochs\\S02_S3 - S5-epo.fif ...\n",
      "    Found the data of interest:\n",
      "        t =       0.00 ...    9198.00 ms\n",
      "        0 CTF compensation matrices available\n",
      "Not setting metadata\n",
      "24 matching events found\n",
      "No baseline correction applied\n",
      "0 projection items activated\n"
     ]
    },
    {
     "name": "stderr",
     "output_type": "stream",
     "text": [
      "C:\\Users\\UCM\\AppData\\Local\\Temp\\ipykernel_9048\\3536539863.py:11: FutureWarning: The current default of copy=False will change to copy=True in 1.7. Set the value of copy explicitly to avoid this warning\n",
      "  data_epochs=epochs.copy().pick(\"eeg\").get_data()\n"
     ]
    },
    {
     "name": "stdout",
     "output_type": "stream",
     "text": [
      "Reading g:\\PROYECTO_SELF\\Data_self\\fif_data\\S03_epochs\\S03_S1 - S4-epo.fif ...\n",
      "    Found the data of interest:\n",
      "        t =       0.00 ...    9198.00 ms\n",
      "        0 CTF compensation matrices available\n",
      "Not setting metadata\n",
      "22 matching events found\n",
      "No baseline correction applied\n",
      "0 projection items activated\n"
     ]
    },
    {
     "name": "stderr",
     "output_type": "stream",
     "text": [
      "C:\\Users\\UCM\\AppData\\Local\\Temp\\ipykernel_9048\\3536539863.py:11: FutureWarning: The current default of copy=False will change to copy=True in 1.7. Set the value of copy explicitly to avoid this warning\n",
      "  data_epochs=epochs.copy().pick(\"eeg\").get_data()\n"
     ]
    },
    {
     "name": "stdout",
     "output_type": "stream",
     "text": [
      "Reading g:\\PROYECTO_SELF\\Data_self\\fif_data\\S03_epochs\\S03_S1 - S5-epo.fif ...\n",
      "    Found the data of interest:\n",
      "        t =       0.00 ...    9198.00 ms\n",
      "        0 CTF compensation matrices available\n",
      "Not setting metadata\n",
      "24 matching events found\n",
      "No baseline correction applied\n",
      "0 projection items activated\n"
     ]
    },
    {
     "name": "stderr",
     "output_type": "stream",
     "text": [
      "C:\\Users\\UCM\\AppData\\Local\\Temp\\ipykernel_9048\\3536539863.py:11: FutureWarning: The current default of copy=False will change to copy=True in 1.7. Set the value of copy explicitly to avoid this warning\n",
      "  data_epochs=epochs.copy().pick(\"eeg\").get_data()\n"
     ]
    },
    {
     "name": "stdout",
     "output_type": "stream",
     "text": [
      "Reading g:\\PROYECTO_SELF\\Data_self\\fif_data\\S03_epochs\\S03_S2 - S4-epo.fif ...\n",
      "    Found the data of interest:\n",
      "        t =       0.00 ...    9198.00 ms\n",
      "        0 CTF compensation matrices available\n",
      "Not setting metadata\n",
      "24 matching events found\n",
      "No baseline correction applied\n",
      "0 projection items activated\n"
     ]
    },
    {
     "name": "stderr",
     "output_type": "stream",
     "text": [
      "C:\\Users\\UCM\\AppData\\Local\\Temp\\ipykernel_9048\\3536539863.py:11: FutureWarning: The current default of copy=False will change to copy=True in 1.7. Set the value of copy explicitly to avoid this warning\n",
      "  data_epochs=epochs.copy().pick(\"eeg\").get_data()\n"
     ]
    },
    {
     "name": "stdout",
     "output_type": "stream",
     "text": [
      "Reading g:\\PROYECTO_SELF\\Data_self\\fif_data\\S03_epochs\\S03_S2 - S5-epo.fif ...\n",
      "    Found the data of interest:\n",
      "        t =       0.00 ...    9198.00 ms\n",
      "        0 CTF compensation matrices available\n",
      "Not setting metadata\n",
      "22 matching events found\n",
      "No baseline correction applied\n",
      "0 projection items activated\n"
     ]
    },
    {
     "name": "stderr",
     "output_type": "stream",
     "text": [
      "C:\\Users\\UCM\\AppData\\Local\\Temp\\ipykernel_9048\\3536539863.py:11: FutureWarning: The current default of copy=False will change to copy=True in 1.7. Set the value of copy explicitly to avoid this warning\n",
      "  data_epochs=epochs.copy().pick(\"eeg\").get_data()\n"
     ]
    },
    {
     "name": "stdout",
     "output_type": "stream",
     "text": [
      "Reading g:\\PROYECTO_SELF\\Data_self\\fif_data\\S03_epochs\\S03_S3 - S4-epo.fif ...\n",
      "    Found the data of interest:\n",
      "        t =       0.00 ...    9198.00 ms\n",
      "        0 CTF compensation matrices available\n",
      "Not setting metadata\n",
      "21 matching events found\n",
      "No baseline correction applied\n",
      "0 projection items activated\n"
     ]
    },
    {
     "name": "stderr",
     "output_type": "stream",
     "text": [
      "C:\\Users\\UCM\\AppData\\Local\\Temp\\ipykernel_9048\\3536539863.py:11: FutureWarning: The current default of copy=False will change to copy=True in 1.7. Set the value of copy explicitly to avoid this warning\n",
      "  data_epochs=epochs.copy().pick(\"eeg\").get_data()\n"
     ]
    },
    {
     "name": "stdout",
     "output_type": "stream",
     "text": [
      "Reading g:\\PROYECTO_SELF\\Data_self\\fif_data\\S03_epochs\\S03_S3 - S5-epo.fif ...\n",
      "    Found the data of interest:\n",
      "        t =       0.00 ...    9198.00 ms\n",
      "        0 CTF compensation matrices available\n",
      "Not setting metadata\n",
      "24 matching events found\n",
      "No baseline correction applied\n",
      "0 projection items activated\n"
     ]
    },
    {
     "name": "stderr",
     "output_type": "stream",
     "text": [
      "C:\\Users\\UCM\\AppData\\Local\\Temp\\ipykernel_9048\\3536539863.py:11: FutureWarning: The current default of copy=False will change to copy=True in 1.7. Set the value of copy explicitly to avoid this warning\n",
      "  data_epochs=epochs.copy().pick(\"eeg\").get_data()\n"
     ]
    },
    {
     "name": "stdout",
     "output_type": "stream",
     "text": [
      "Reading g:\\PROYECTO_SELF\\Data_self\\fif_data\\S04_epochs\\S04_S1 - S4-epo.fif ...\n",
      "    Found the data of interest:\n",
      "        t =       0.00 ...    9198.00 ms\n",
      "        0 CTF compensation matrices available\n",
      "Not setting metadata\n",
      "23 matching events found\n",
      "No baseline correction applied\n",
      "0 projection items activated\n"
     ]
    },
    {
     "name": "stderr",
     "output_type": "stream",
     "text": [
      "C:\\Users\\UCM\\AppData\\Local\\Temp\\ipykernel_9048\\3536539863.py:11: FutureWarning: The current default of copy=False will change to copy=True in 1.7. Set the value of copy explicitly to avoid this warning\n",
      "  data_epochs=epochs.copy().pick(\"eeg\").get_data()\n"
     ]
    },
    {
     "name": "stdout",
     "output_type": "stream",
     "text": [
      "Reading g:\\PROYECTO_SELF\\Data_self\\fif_data\\S04_epochs\\S04_S1 - S5-epo.fif ...\n",
      "    Found the data of interest:\n",
      "        t =       0.00 ...    9198.00 ms\n",
      "        0 CTF compensation matrices available\n",
      "Not setting metadata\n",
      "18 matching events found\n",
      "No baseline correction applied\n",
      "0 projection items activated\n"
     ]
    },
    {
     "name": "stderr",
     "output_type": "stream",
     "text": [
      "C:\\Users\\UCM\\AppData\\Local\\Temp\\ipykernel_9048\\3536539863.py:11: FutureWarning: The current default of copy=False will change to copy=True in 1.7. Set the value of copy explicitly to avoid this warning\n",
      "  data_epochs=epochs.copy().pick(\"eeg\").get_data()\n"
     ]
    },
    {
     "name": "stdout",
     "output_type": "stream",
     "text": [
      "Reading g:\\PROYECTO_SELF\\Data_self\\fif_data\\S04_epochs\\S04_S2 - S4-epo.fif ...\n",
      "    Found the data of interest:\n",
      "        t =       0.00 ...    9198.00 ms\n",
      "        0 CTF compensation matrices available\n",
      "Not setting metadata\n",
      "18 matching events found\n",
      "No baseline correction applied\n",
      "0 projection items activated\n"
     ]
    },
    {
     "name": "stderr",
     "output_type": "stream",
     "text": [
      "C:\\Users\\UCM\\AppData\\Local\\Temp\\ipykernel_9048\\3536539863.py:11: FutureWarning: The current default of copy=False will change to copy=True in 1.7. Set the value of copy explicitly to avoid this warning\n",
      "  data_epochs=epochs.copy().pick(\"eeg\").get_data()\n"
     ]
    },
    {
     "name": "stdout",
     "output_type": "stream",
     "text": [
      "Reading g:\\PROYECTO_SELF\\Data_self\\fif_data\\S04_epochs\\S04_S2 - S5-epo.fif ...\n",
      "    Found the data of interest:\n",
      "        t =       0.00 ...    9198.00 ms\n",
      "        0 CTF compensation matrices available\n",
      "Not setting metadata\n",
      "25 matching events found\n",
      "No baseline correction applied\n",
      "0 projection items activated\n"
     ]
    },
    {
     "name": "stderr",
     "output_type": "stream",
     "text": [
      "C:\\Users\\UCM\\AppData\\Local\\Temp\\ipykernel_9048\\3536539863.py:11: FutureWarning: The current default of copy=False will change to copy=True in 1.7. Set the value of copy explicitly to avoid this warning\n",
      "  data_epochs=epochs.copy().pick(\"eeg\").get_data()\n"
     ]
    },
    {
     "name": "stdout",
     "output_type": "stream",
     "text": [
      "Reading g:\\PROYECTO_SELF\\Data_self\\fif_data\\S04_epochs\\S04_S3 - S4-epo.fif ...\n",
      "    Found the data of interest:\n",
      "        t =       0.00 ...    9198.00 ms\n",
      "        0 CTF compensation matrices available\n",
      "Not setting metadata\n",
      "25 matching events found\n",
      "No baseline correction applied\n",
      "0 projection items activated\n"
     ]
    },
    {
     "name": "stderr",
     "output_type": "stream",
     "text": [
      "C:\\Users\\UCM\\AppData\\Local\\Temp\\ipykernel_9048\\3536539863.py:11: FutureWarning: The current default of copy=False will change to copy=True in 1.7. Set the value of copy explicitly to avoid this warning\n",
      "  data_epochs=epochs.copy().pick(\"eeg\").get_data()\n"
     ]
    },
    {
     "name": "stdout",
     "output_type": "stream",
     "text": [
      "Reading g:\\PROYECTO_SELF\\Data_self\\fif_data\\S04_epochs\\S04_S3 - S5-epo.fif ...\n",
      "    Found the data of interest:\n",
      "        t =       0.00 ...    9198.00 ms\n",
      "        0 CTF compensation matrices available\n",
      "Not setting metadata\n",
      "24 matching events found\n",
      "No baseline correction applied\n",
      "0 projection items activated\n"
     ]
    },
    {
     "name": "stderr",
     "output_type": "stream",
     "text": [
      "C:\\Users\\UCM\\AppData\\Local\\Temp\\ipykernel_9048\\3536539863.py:11: FutureWarning: The current default of copy=False will change to copy=True in 1.7. Set the value of copy explicitly to avoid this warning\n",
      "  data_epochs=epochs.copy().pick(\"eeg\").get_data()\n"
     ]
    },
    {
     "name": "stdout",
     "output_type": "stream",
     "text": [
      "Reading g:\\PROYECTO_SELF\\Data_self\\fif_data\\S05_epochs\\S05_S1 - S4-epo.fif ...\n",
      "    Found the data of interest:\n",
      "        t =       0.00 ...    9198.00 ms\n",
      "        0 CTF compensation matrices available\n",
      "Not setting metadata\n",
      "23 matching events found\n",
      "No baseline correction applied\n",
      "0 projection items activated\n"
     ]
    },
    {
     "name": "stderr",
     "output_type": "stream",
     "text": [
      "C:\\Users\\UCM\\AppData\\Local\\Temp\\ipykernel_9048\\3536539863.py:11: FutureWarning: The current default of copy=False will change to copy=True in 1.7. Set the value of copy explicitly to avoid this warning\n",
      "  data_epochs=epochs.copy().pick(\"eeg\").get_data()\n"
     ]
    },
    {
     "name": "stdout",
     "output_type": "stream",
     "text": [
      "Reading g:\\PROYECTO_SELF\\Data_self\\fif_data\\S05_epochs\\S05_S1 - S5-epo.fif ...\n",
      "    Found the data of interest:\n",
      "        t =       0.00 ...    9198.00 ms\n",
      "        0 CTF compensation matrices available\n",
      "Not setting metadata\n",
      "20 matching events found\n",
      "No baseline correction applied\n",
      "0 projection items activated\n"
     ]
    },
    {
     "name": "stderr",
     "output_type": "stream",
     "text": [
      "C:\\Users\\UCM\\AppData\\Local\\Temp\\ipykernel_9048\\3536539863.py:11: FutureWarning: The current default of copy=False will change to copy=True in 1.7. Set the value of copy explicitly to avoid this warning\n",
      "  data_epochs=epochs.copy().pick(\"eeg\").get_data()\n"
     ]
    },
    {
     "name": "stdout",
     "output_type": "stream",
     "text": [
      "Reading g:\\PROYECTO_SELF\\Data_self\\fif_data\\S05_epochs\\S05_S2 - S4-epo.fif ...\n",
      "    Found the data of interest:\n",
      "        t =       0.00 ...    9198.00 ms\n",
      "        0 CTF compensation matrices available\n",
      "Not setting metadata\n",
      "22 matching events found\n",
      "No baseline correction applied\n",
      "0 projection items activated\n"
     ]
    },
    {
     "name": "stderr",
     "output_type": "stream",
     "text": [
      "C:\\Users\\UCM\\AppData\\Local\\Temp\\ipykernel_9048\\3536539863.py:11: FutureWarning: The current default of copy=False will change to copy=True in 1.7. Set the value of copy explicitly to avoid this warning\n",
      "  data_epochs=epochs.copy().pick(\"eeg\").get_data()\n"
     ]
    },
    {
     "name": "stdout",
     "output_type": "stream",
     "text": [
      "Reading g:\\PROYECTO_SELF\\Data_self\\fif_data\\S05_epochs\\S05_S2 - S5-epo.fif ...\n",
      "    Found the data of interest:\n",
      "        t =       0.00 ...    9198.00 ms\n",
      "        0 CTF compensation matrices available\n",
      "Not setting metadata\n",
      "20 matching events found\n",
      "No baseline correction applied\n",
      "0 projection items activated\n"
     ]
    },
    {
     "name": "stderr",
     "output_type": "stream",
     "text": [
      "C:\\Users\\UCM\\AppData\\Local\\Temp\\ipykernel_9048\\3536539863.py:11: FutureWarning: The current default of copy=False will change to copy=True in 1.7. Set the value of copy explicitly to avoid this warning\n",
      "  data_epochs=epochs.copy().pick(\"eeg\").get_data()\n"
     ]
    },
    {
     "name": "stdout",
     "output_type": "stream",
     "text": [
      "Reading g:\\PROYECTO_SELF\\Data_self\\fif_data\\S05_epochs\\S05_S3 - S4-epo.fif ...\n",
      "    Found the data of interest:\n",
      "        t =       0.00 ...    9198.00 ms\n",
      "        0 CTF compensation matrices available\n",
      "Not setting metadata\n",
      "21 matching events found\n",
      "No baseline correction applied\n",
      "0 projection items activated\n"
     ]
    },
    {
     "name": "stderr",
     "output_type": "stream",
     "text": [
      "C:\\Users\\UCM\\AppData\\Local\\Temp\\ipykernel_9048\\3536539863.py:11: FutureWarning: The current default of copy=False will change to copy=True in 1.7. Set the value of copy explicitly to avoid this warning\n",
      "  data_epochs=epochs.copy().pick(\"eeg\").get_data()\n"
     ]
    },
    {
     "name": "stdout",
     "output_type": "stream",
     "text": [
      "Reading g:\\PROYECTO_SELF\\Data_self\\fif_data\\S05_epochs\\S05_S3 - S5-epo.fif ...\n",
      "    Found the data of interest:\n",
      "        t =       0.00 ...    9198.00 ms\n",
      "        0 CTF compensation matrices available\n",
      "Not setting metadata\n",
      "21 matching events found\n",
      "No baseline correction applied\n",
      "0 projection items activated\n"
     ]
    },
    {
     "name": "stderr",
     "output_type": "stream",
     "text": [
      "C:\\Users\\UCM\\AppData\\Local\\Temp\\ipykernel_9048\\3536539863.py:11: FutureWarning: The current default of copy=False will change to copy=True in 1.7. Set the value of copy explicitly to avoid this warning\n",
      "  data_epochs=epochs.copy().pick(\"eeg\").get_data()\n"
     ]
    },
    {
     "name": "stdout",
     "output_type": "stream",
     "text": [
      "Reading g:\\PROYECTO_SELF\\Data_self\\fif_data\\S06_epochs\\S06_S1 - S4-epo.fif ...\n",
      "    Found the data of interest:\n",
      "        t =       0.00 ...    9198.00 ms\n",
      "        0 CTF compensation matrices available\n",
      "Not setting metadata\n",
      "23 matching events found\n",
      "No baseline correction applied\n",
      "0 projection items activated\n"
     ]
    },
    {
     "name": "stderr",
     "output_type": "stream",
     "text": [
      "C:\\Users\\UCM\\AppData\\Local\\Temp\\ipykernel_9048\\3536539863.py:11: FutureWarning: The current default of copy=False will change to copy=True in 1.7. Set the value of copy explicitly to avoid this warning\n",
      "  data_epochs=epochs.copy().pick(\"eeg\").get_data()\n"
     ]
    },
    {
     "name": "stdout",
     "output_type": "stream",
     "text": [
      "Reading g:\\PROYECTO_SELF\\Data_self\\fif_data\\S06_epochs\\S06_S1 - S5-epo.fif ...\n",
      "    Found the data of interest:\n",
      "        t =       0.00 ...    9198.00 ms\n",
      "        0 CTF compensation matrices available\n",
      "Not setting metadata\n",
      "24 matching events found\n",
      "No baseline correction applied\n",
      "0 projection items activated\n"
     ]
    },
    {
     "name": "stderr",
     "output_type": "stream",
     "text": [
      "C:\\Users\\UCM\\AppData\\Local\\Temp\\ipykernel_9048\\3536539863.py:11: FutureWarning: The current default of copy=False will change to copy=True in 1.7. Set the value of copy explicitly to avoid this warning\n",
      "  data_epochs=epochs.copy().pick(\"eeg\").get_data()\n"
     ]
    },
    {
     "name": "stdout",
     "output_type": "stream",
     "text": [
      "Reading g:\\PROYECTO_SELF\\Data_self\\fif_data\\S06_epochs\\S06_S2 - S4-epo.fif ...\n",
      "    Found the data of interest:\n",
      "        t =       0.00 ...    9198.00 ms\n",
      "        0 CTF compensation matrices available\n",
      "Not setting metadata\n",
      "23 matching events found\n",
      "No baseline correction applied\n",
      "0 projection items activated\n"
     ]
    },
    {
     "name": "stderr",
     "output_type": "stream",
     "text": [
      "C:\\Users\\UCM\\AppData\\Local\\Temp\\ipykernel_9048\\3536539863.py:11: FutureWarning: The current default of copy=False will change to copy=True in 1.7. Set the value of copy explicitly to avoid this warning\n",
      "  data_epochs=epochs.copy().pick(\"eeg\").get_data()\n"
     ]
    },
    {
     "name": "stdout",
     "output_type": "stream",
     "text": [
      "Reading g:\\PROYECTO_SELF\\Data_self\\fif_data\\S06_epochs\\S06_S2 - S5-epo.fif ...\n",
      "    Found the data of interest:\n",
      "        t =       0.00 ...    9198.00 ms\n",
      "        0 CTF compensation matrices available\n",
      "Not setting metadata\n",
      "24 matching events found\n",
      "No baseline correction applied\n",
      "0 projection items activated\n"
     ]
    },
    {
     "name": "stderr",
     "output_type": "stream",
     "text": [
      "C:\\Users\\UCM\\AppData\\Local\\Temp\\ipykernel_9048\\3536539863.py:11: FutureWarning: The current default of copy=False will change to copy=True in 1.7. Set the value of copy explicitly to avoid this warning\n",
      "  data_epochs=epochs.copy().pick(\"eeg\").get_data()\n"
     ]
    },
    {
     "name": "stdout",
     "output_type": "stream",
     "text": [
      "Reading g:\\PROYECTO_SELF\\Data_self\\fif_data\\S06_epochs\\S06_S3 - S4-epo.fif ...\n",
      "    Found the data of interest:\n",
      "        t =       0.00 ...    9198.00 ms\n",
      "        0 CTF compensation matrices available\n",
      "Not setting metadata\n",
      "23 matching events found\n",
      "No baseline correction applied\n",
      "0 projection items activated\n"
     ]
    },
    {
     "name": "stderr",
     "output_type": "stream",
     "text": [
      "C:\\Users\\UCM\\AppData\\Local\\Temp\\ipykernel_9048\\3536539863.py:11: FutureWarning: The current default of copy=False will change to copy=True in 1.7. Set the value of copy explicitly to avoid this warning\n",
      "  data_epochs=epochs.copy().pick(\"eeg\").get_data()\n"
     ]
    },
    {
     "name": "stdout",
     "output_type": "stream",
     "text": [
      "Reading g:\\PROYECTO_SELF\\Data_self\\fif_data\\S06_epochs\\S06_S3 - S5-epo.fif ...\n",
      "    Found the data of interest:\n",
      "        t =       0.00 ...    9198.00 ms\n",
      "        0 CTF compensation matrices available\n",
      "Not setting metadata\n",
      "24 matching events found\n",
      "No baseline correction applied\n",
      "0 projection items activated\n"
     ]
    },
    {
     "name": "stderr",
     "output_type": "stream",
     "text": [
      "C:\\Users\\UCM\\AppData\\Local\\Temp\\ipykernel_9048\\3536539863.py:11: FutureWarning: The current default of copy=False will change to copy=True in 1.7. Set the value of copy explicitly to avoid this warning\n",
      "  data_epochs=epochs.copy().pick(\"eeg\").get_data()\n"
     ]
    }
   ],
   "source": [
    "##codigo para agrupar todas las tablas\n",
    "\n",
    "all_tables = []\n",
    "\n",
    "for i in range(0,len(subject_names)):\n",
    "    for h in range(0,len(combinaciones)):\n",
    "        subj=subject_names[i]\n",
    "        combinacion= combinaciones[h]\n",
    "        path_epochs= fif_data / f\"{subj}_epochs\" / f\"{subj}_{combinacion}-epo.fif\"\n",
    "        epochs = mne.read_epochs(path_epochs)\n",
    "        table_autocorrelation= acf_epochs(epochs, isplot=False)\n",
    "        all_tables.append(table_autocorrelation)\n",
    "\n",
    "final_table = pd.concat(all_tables, ignore_index=True)\n"
   ]
  },
  {
   "cell_type": "code",
   "execution_count": 180,
   "metadata": {},
   "outputs": [
    {
     "data": {
      "text/html": [
       "<div>\n",
       "<style scoped>\n",
       "    .dataframe tbody tr th:only-of-type {\n",
       "        vertical-align: middle;\n",
       "    }\n",
       "\n",
       "    .dataframe tbody tr th {\n",
       "        vertical-align: top;\n",
       "    }\n",
       "\n",
       "    .dataframe thead th {\n",
       "        text-align: right;\n",
       "    }\n",
       "</style>\n",
       "<table border=\"1\" class=\"dataframe\">\n",
       "  <thead>\n",
       "    <tr style=\"text-align: right;\">\n",
       "      <th></th>\n",
       "      <th>Subject</th>\n",
       "      <th>Combination</th>\n",
       "      <th>Epoch</th>\n",
       "      <th>ACF_epoch</th>\n",
       "      <th>ACW_50_epoch</th>\n",
       "      <th>ACW_0_epoch</th>\n",
       "      <th>ACW_50_epoch_mean</th>\n",
       "      <th>ACW_0_epoch_mean</th>\n",
       "      <th>promedio_ACW_50_electrodos</th>\n",
       "      <th>promedio_ACW_0_electrodos</th>\n",
       "    </tr>\n",
       "  </thead>\n",
       "  <tbody>\n",
       "    <tr>\n",
       "      <th>0</th>\n",
       "      <td>S01</td>\n",
       "      <td>S1 - S4</td>\n",
       "      <td>1</td>\n",
       "      <td>[[1.0, 0.9643618259278371, 0.882340758129411, ...</td>\n",
       "      <td>[0.02, 0.022, 0.136, 0.02, 0.026, 0.038, 0.038...</td>\n",
       "      <td>[0.676, 0.69, 0.926, 0.442, 0.446, 0.834, 0.82...</td>\n",
       "      <td>0.048102</td>\n",
       "      <td>0.748339</td>\n",
       "      <td>[0.1008421052631579, 0.08231578947368423, 0.14...</td>\n",
       "      <td>[1.3477894736842104, 1.3209473684210529, 1.338...</td>\n",
       "    </tr>\n",
       "    <tr>\n",
       "      <th>1</th>\n",
       "      <td>S01</td>\n",
       "      <td>S1 - S4</td>\n",
       "      <td>2</td>\n",
       "      <td>[[1.0, 0.9567541395737114, 0.8559149870473575,...</td>\n",
       "      <td>[0.016, 0.016, 0.026, 0.034, 0.03, 0.034, 0.01...</td>\n",
       "      <td>[0.69, 0.686, 0.826, 1.078, 0.838, 0.82, 0.53,...</td>\n",
       "      <td>0.023559</td>\n",
       "      <td>0.405356</td>\n",
       "      <td>[0.1008421052631579, 0.08231578947368423, 0.14...</td>\n",
       "      <td>[1.3477894736842104, 1.3209473684210529, 1.338...</td>\n",
       "    </tr>\n",
       "    <tr>\n",
       "      <th>2</th>\n",
       "      <td>S01</td>\n",
       "      <td>S1 - S4</td>\n",
       "      <td>3</td>\n",
       "      <td>[[1.0, 0.9786206576162684, 0.9299493435318699,...</td>\n",
       "      <td>[0.056, 0.034, 0.036, 0.058, 0.056, 0.052, 0.0...</td>\n",
       "      <td>[0.948, 0.604, 0.598, 0.872, 0.856, 0.54, 0.84...</td>\n",
       "      <td>0.046678</td>\n",
       "      <td>0.597932</td>\n",
       "      <td>[0.1008421052631579, 0.08231578947368423, 0.14...</td>\n",
       "      <td>[1.3477894736842104, 1.3209473684210529, 1.338...</td>\n",
       "    </tr>\n",
       "    <tr>\n",
       "      <th>3</th>\n",
       "      <td>S01</td>\n",
       "      <td>S1 - S4</td>\n",
       "      <td>4</td>\n",
       "      <td>[[1.0, 0.9899768491836892, 0.9662969221780888,...</td>\n",
       "      <td>[0.238, 0.444, 0.402, 0.056, 0.042, 0.39, 0.34...</td>\n",
       "      <td>[2.17, 2.504, 2.132, 1.874, 1.616, 2.158, 1.95...</td>\n",
       "      <td>0.087932</td>\n",
       "      <td>1.626746</td>\n",
       "      <td>[0.1008421052631579, 0.08231578947368423, 0.14...</td>\n",
       "      <td>[1.3477894736842104, 1.3209473684210529, 1.338...</td>\n",
       "    </tr>\n",
       "    <tr>\n",
       "      <th>4</th>\n",
       "      <td>S01</td>\n",
       "      <td>S1 - S4</td>\n",
       "      <td>5</td>\n",
       "      <td>[[1.0, 0.9873408230633265, 0.9566411543518696,...</td>\n",
       "      <td>[0.04, 0.042, 0.042, 0.034, 0.03, 0.044, 0.042...</td>\n",
       "      <td>[1.05, 1.218, 1.056, 0.876, 1.042, 1.21, 1.218...</td>\n",
       "      <td>0.031729</td>\n",
       "      <td>0.688034</td>\n",
       "      <td>[0.1008421052631579, 0.08231578947368423, 0.14...</td>\n",
       "      <td>[1.3477894736842104, 1.3209473684210529, 1.338...</td>\n",
       "    </tr>\n",
       "    <tr>\n",
       "      <th>...</th>\n",
       "      <td>...</td>\n",
       "      <td>...</td>\n",
       "      <td>...</td>\n",
       "      <td>...</td>\n",
       "      <td>...</td>\n",
       "      <td>...</td>\n",
       "      <td>...</td>\n",
       "      <td>...</td>\n",
       "      <td>...</td>\n",
       "      <td>...</td>\n",
       "    </tr>\n",
       "    <tr>\n",
       "      <th>789</th>\n",
       "      <td>S06</td>\n",
       "      <td>S3 - S5</td>\n",
       "      <td>20</td>\n",
       "      <td>[[1.0, 0.9869102295034359, 0.9543366060899704,...</td>\n",
       "      <td>[0.112, 0.112, 0.04, 0.1, 0.032, 0.038, 0.052,...</td>\n",
       "      <td>[1.848, 2.128, 0.692, 1.614, 1.124, 1.148, 0.7...</td>\n",
       "      <td>0.087593</td>\n",
       "      <td>0.835492</td>\n",
       "      <td>[0.09441666666666666, 0.08833333333333333, 0.0...</td>\n",
       "      <td>[1.2695833333333333, 1.3977500000000003, 1.217...</td>\n",
       "    </tr>\n",
       "    <tr>\n",
       "      <th>790</th>\n",
       "      <td>S06</td>\n",
       "      <td>S3 - S5</td>\n",
       "      <td>21</td>\n",
       "      <td>[[1.0, 0.9793835832916986, 0.929780373137263, ...</td>\n",
       "      <td>[0.056, 0.062, 0.058, 0.058, 0.062, 0.064, 0.0...</td>\n",
       "      <td>[1.048, 1.094, 0.898, 0.864, 1.048, 1.426, 0.5...</td>\n",
       "      <td>0.136746</td>\n",
       "      <td>1.277898</td>\n",
       "      <td>[0.09441666666666666, 0.08833333333333333, 0.0...</td>\n",
       "      <td>[1.2695833333333333, 1.3977500000000003, 1.217...</td>\n",
       "    </tr>\n",
       "    <tr>\n",
       "      <th>791</th>\n",
       "      <td>S06</td>\n",
       "      <td>S3 - S5</td>\n",
       "      <td>22</td>\n",
       "      <td>[[1.0, 0.9714245636621274, 0.9020355283986697,...</td>\n",
       "      <td>[0.04, 0.038, 0.094, 0.042, 0.032, 0.03, 0.04,...</td>\n",
       "      <td>[2.74, 2.732, 2.554, 2.738, 0.408, 1.926, 2.17...</td>\n",
       "      <td>0.102949</td>\n",
       "      <td>0.914746</td>\n",
       "      <td>[0.09441666666666666, 0.08833333333333333, 0.0...</td>\n",
       "      <td>[1.2695833333333333, 1.3977500000000003, 1.217...</td>\n",
       "    </tr>\n",
       "    <tr>\n",
       "      <th>792</th>\n",
       "      <td>S06</td>\n",
       "      <td>S3 - S5</td>\n",
       "      <td>23</td>\n",
       "      <td>[[1.0, 0.9670219901632972, 0.8874572750711319,...</td>\n",
       "      <td>[0.038, 0.038, 0.056, 0.272, 0.044, 0.044, 0.2...</td>\n",
       "      <td>[2.838, 2.67, 2.404, 2.916, 2.84, 2.684, 2.528...</td>\n",
       "      <td>0.089661</td>\n",
       "      <td>1.317254</td>\n",
       "      <td>[0.09441666666666666, 0.08833333333333333, 0.0...</td>\n",
       "      <td>[1.2695833333333333, 1.3977500000000003, 1.217...</td>\n",
       "    </tr>\n",
       "    <tr>\n",
       "      <th>793</th>\n",
       "      <td>S06</td>\n",
       "      <td>S3 - S5</td>\n",
       "      <td>24</td>\n",
       "      <td>[[1.0, 0.9790197614773091, 0.927890626946491, ...</td>\n",
       "      <td>[0.152, 0.11, 0.102, 0.146, 0.072, 0.058, 0.06...</td>\n",
       "      <td>[1.226, 1.018, 0.98, 1.404, 0.952, 0.872, 0.93...</td>\n",
       "      <td>0.158373</td>\n",
       "      <td>1.305898</td>\n",
       "      <td>[0.09441666666666666, 0.08833333333333333, 0.0...</td>\n",
       "      <td>[1.2695833333333333, 1.3977500000000003, 1.217...</td>\n",
       "    </tr>\n",
       "  </tbody>\n",
       "</table>\n",
       "<p>794 rows × 10 columns</p>\n",
       "</div>"
      ],
      "text/plain": [
       "    Subject Combination  Epoch  \\\n",
       "0       S01     S1 - S4      1   \n",
       "1       S01     S1 - S4      2   \n",
       "2       S01     S1 - S4      3   \n",
       "3       S01     S1 - S4      4   \n",
       "4       S01     S1 - S4      5   \n",
       "..      ...         ...    ...   \n",
       "789     S06     S3 - S5     20   \n",
       "790     S06     S3 - S5     21   \n",
       "791     S06     S3 - S5     22   \n",
       "792     S06     S3 - S5     23   \n",
       "793     S06     S3 - S5     24   \n",
       "\n",
       "                                             ACF_epoch  \\\n",
       "0    [[1.0, 0.9643618259278371, 0.882340758129411, ...   \n",
       "1    [[1.0, 0.9567541395737114, 0.8559149870473575,...   \n",
       "2    [[1.0, 0.9786206576162684, 0.9299493435318699,...   \n",
       "3    [[1.0, 0.9899768491836892, 0.9662969221780888,...   \n",
       "4    [[1.0, 0.9873408230633265, 0.9566411543518696,...   \n",
       "..                                                 ...   \n",
       "789  [[1.0, 0.9869102295034359, 0.9543366060899704,...   \n",
       "790  [[1.0, 0.9793835832916986, 0.929780373137263, ...   \n",
       "791  [[1.0, 0.9714245636621274, 0.9020355283986697,...   \n",
       "792  [[1.0, 0.9670219901632972, 0.8874572750711319,...   \n",
       "793  [[1.0, 0.9790197614773091, 0.927890626946491, ...   \n",
       "\n",
       "                                          ACW_50_epoch  \\\n",
       "0    [0.02, 0.022, 0.136, 0.02, 0.026, 0.038, 0.038...   \n",
       "1    [0.016, 0.016, 0.026, 0.034, 0.03, 0.034, 0.01...   \n",
       "2    [0.056, 0.034, 0.036, 0.058, 0.056, 0.052, 0.0...   \n",
       "3    [0.238, 0.444, 0.402, 0.056, 0.042, 0.39, 0.34...   \n",
       "4    [0.04, 0.042, 0.042, 0.034, 0.03, 0.044, 0.042...   \n",
       "..                                                 ...   \n",
       "789  [0.112, 0.112, 0.04, 0.1, 0.032, 0.038, 0.052,...   \n",
       "790  [0.056, 0.062, 0.058, 0.058, 0.062, 0.064, 0.0...   \n",
       "791  [0.04, 0.038, 0.094, 0.042, 0.032, 0.03, 0.04,...   \n",
       "792  [0.038, 0.038, 0.056, 0.272, 0.044, 0.044, 0.2...   \n",
       "793  [0.152, 0.11, 0.102, 0.146, 0.072, 0.058, 0.06...   \n",
       "\n",
       "                                           ACW_0_epoch  ACW_50_epoch_mean  \\\n",
       "0    [0.676, 0.69, 0.926, 0.442, 0.446, 0.834, 0.82...           0.048102   \n",
       "1    [0.69, 0.686, 0.826, 1.078, 0.838, 0.82, 0.53,...           0.023559   \n",
       "2    [0.948, 0.604, 0.598, 0.872, 0.856, 0.54, 0.84...           0.046678   \n",
       "3    [2.17, 2.504, 2.132, 1.874, 1.616, 2.158, 1.95...           0.087932   \n",
       "4    [1.05, 1.218, 1.056, 0.876, 1.042, 1.21, 1.218...           0.031729   \n",
       "..                                                 ...                ...   \n",
       "789  [1.848, 2.128, 0.692, 1.614, 1.124, 1.148, 0.7...           0.087593   \n",
       "790  [1.048, 1.094, 0.898, 0.864, 1.048, 1.426, 0.5...           0.136746   \n",
       "791  [2.74, 2.732, 2.554, 2.738, 0.408, 1.926, 2.17...           0.102949   \n",
       "792  [2.838, 2.67, 2.404, 2.916, 2.84, 2.684, 2.528...           0.089661   \n",
       "793  [1.226, 1.018, 0.98, 1.404, 0.952, 0.872, 0.93...           0.158373   \n",
       "\n",
       "     ACW_0_epoch_mean                         promedio_ACW_50_electrodos  \\\n",
       "0            0.748339  [0.1008421052631579, 0.08231578947368423, 0.14...   \n",
       "1            0.405356  [0.1008421052631579, 0.08231578947368423, 0.14...   \n",
       "2            0.597932  [0.1008421052631579, 0.08231578947368423, 0.14...   \n",
       "3            1.626746  [0.1008421052631579, 0.08231578947368423, 0.14...   \n",
       "4            0.688034  [0.1008421052631579, 0.08231578947368423, 0.14...   \n",
       "..                ...                                                ...   \n",
       "789          0.835492  [0.09441666666666666, 0.08833333333333333, 0.0...   \n",
       "790          1.277898  [0.09441666666666666, 0.08833333333333333, 0.0...   \n",
       "791          0.914746  [0.09441666666666666, 0.08833333333333333, 0.0...   \n",
       "792          1.317254  [0.09441666666666666, 0.08833333333333333, 0.0...   \n",
       "793          1.305898  [0.09441666666666666, 0.08833333333333333, 0.0...   \n",
       "\n",
       "                             promedio_ACW_0_electrodos  \n",
       "0    [1.3477894736842104, 1.3209473684210529, 1.338...  \n",
       "1    [1.3477894736842104, 1.3209473684210529, 1.338...  \n",
       "2    [1.3477894736842104, 1.3209473684210529, 1.338...  \n",
       "3    [1.3477894736842104, 1.3209473684210529, 1.338...  \n",
       "4    [1.3477894736842104, 1.3209473684210529, 1.338...  \n",
       "..                                                 ...  \n",
       "789  [1.2695833333333333, 1.3977500000000003, 1.217...  \n",
       "790  [1.2695833333333333, 1.3977500000000003, 1.217...  \n",
       "791  [1.2695833333333333, 1.3977500000000003, 1.217...  \n",
       "792  [1.2695833333333333, 1.3977500000000003, 1.217...  \n",
       "793  [1.2695833333333333, 1.3977500000000003, 1.217...  \n",
       "\n",
       "[794 rows x 10 columns]"
      ]
     },
     "execution_count": 180,
     "metadata": {},
     "output_type": "execute_result"
    }
   ],
   "source": [
    "final_table"
   ]
  },
  {
   "cell_type": "markdown",
   "metadata": {},
   "source": []
  },
  {
   "cell_type": "code",
   "execution_count": 181,
   "metadata": {},
   "outputs": [],
   "source": [
    "final_table.to_csv(acw_analysis_path / f\"final_table_acw_1-6.csv\", index=False)"
   ]
  },
  {
   "cell_type": "code",
   "execution_count": null,
   "metadata": {},
   "outputs": [],
   "source": [
    "##code to save the dataframe \n",
    "\n",
    "table_autocorrelation.to_csv(analysis_path / f{subj}_table_autocorrelation.csv\", index=False)"
   ]
  },
  {
   "cell_type": "code",
   "execution_count": null,
   "metadata": {},
   "outputs": [],
   "source": [
    "# code to read the dataframe\n",
    "\n",
    "df_acf_loaded = pd.read_csv(analysis_path / f\"acf_{layer_script}.csv\")\n"
   ]
  },
  {
   "cell_type": "code",
   "execution_count": 186,
   "metadata": {},
   "outputs": [
    {
     "data": {
      "text/html": [
       "<div>\n",
       "<style scoped>\n",
       "    .dataframe tbody tr th:only-of-type {\n",
       "        vertical-align: middle;\n",
       "    }\n",
       "\n",
       "    .dataframe tbody tr th {\n",
       "        vertical-align: top;\n",
       "    }\n",
       "\n",
       "    .dataframe thead th {\n",
       "        text-align: right;\n",
       "    }\n",
       "</style>\n",
       "<table border=\"1\" class=\"dataframe\">\n",
       "  <thead>\n",
       "    <tr style=\"text-align: right;\">\n",
       "      <th></th>\n",
       "      <th>Subject</th>\n",
       "      <th>Sensor</th>\n",
       "      <th>ACF_Zinnen</th>\n",
       "      <th>ACW_50_Zinnen</th>\n",
       "      <th>ACW_0_Zinnen</th>\n",
       "      <th>ACF_Woorden</th>\n",
       "      <th>ACW_50_Woorden</th>\n",
       "      <th>ACW_0_Woorden</th>\n",
       "    </tr>\n",
       "  </thead>\n",
       "  <tbody>\n",
       "    <tr>\n",
       "      <th>0</th>\n",
       "      <td>sub-A2004</td>\n",
       "      <td>1</td>\n",
       "      <td>[ 1.00000000e+00  9.90504844e-01  9.62689459e-...</td>\n",
       "      <td>0.016667</td>\n",
       "      <td>0.395000</td>\n",
       "      <td>[ 1.          0.98957351  0.95919365 ... -1.02...</td>\n",
       "      <td>0.016667</td>\n",
       "      <td>0.343333</td>\n",
       "    </tr>\n",
       "    <tr>\n",
       "      <th>1</th>\n",
       "      <td>sub-A2004</td>\n",
       "      <td>2</td>\n",
       "      <td>[ 1.          0.99110624  0.96506121 ... -0.07...</td>\n",
       "      <td>0.018333</td>\n",
       "      <td>0.361667</td>\n",
       "      <td>[ 1.          0.99033796  0.96210035 ...  0.00...</td>\n",
       "      <td>0.016667</td>\n",
       "      <td>0.351667</td>\n",
       "    </tr>\n",
       "    <tr>\n",
       "      <th>2</th>\n",
       "      <td>sub-A2004</td>\n",
       "      <td>3</td>\n",
       "      <td>[ 1.          0.9913972   0.9661997  ... -0.21...</td>\n",
       "      <td>0.018333</td>\n",
       "      <td>0.398333</td>\n",
       "      <td>[ 1.          0.99071471  0.96354885 ... -0.08...</td>\n",
       "      <td>0.018333</td>\n",
       "      <td>0.351667</td>\n",
       "    </tr>\n",
       "    <tr>\n",
       "      <th>3</th>\n",
       "      <td>sub-A2004</td>\n",
       "      <td>4</td>\n",
       "      <td>[ 1.          0.99097473  0.96453989 ... -0.14...</td>\n",
       "      <td>0.016667</td>\n",
       "      <td>0.471667</td>\n",
       "      <td>[1.         0.99063727 0.96321899 ... 0.081492...</td>\n",
       "      <td>0.016667</td>\n",
       "      <td>0.328333</td>\n",
       "    </tr>\n",
       "    <tr>\n",
       "      <th>4</th>\n",
       "      <td>sub-A2004</td>\n",
       "      <td>5</td>\n",
       "      <td>[ 1.          0.99162543  0.96704988 ... -0.01...</td>\n",
       "      <td>0.018333</td>\n",
       "      <td>0.468333</td>\n",
       "      <td>[1.         0.99126763 0.96565904 ... 0.058078...</td>\n",
       "      <td>0.018333</td>\n",
       "      <td>0.266667</td>\n",
       "    </tr>\n",
       "    <tr>\n",
       "      <th>...</th>\n",
       "      <td>...</td>\n",
       "      <td>...</td>\n",
       "      <td>...</td>\n",
       "      <td>...</td>\n",
       "      <td>...</td>\n",
       "      <td>...</td>\n",
       "      <td>...</td>\n",
       "      <td>...</td>\n",
       "    </tr>\n",
       "    <tr>\n",
       "      <th>268</th>\n",
       "      <td>sub-A2004</td>\n",
       "      <td>269</td>\n",
       "      <td>[ 1.          0.98899351  0.95682109 ... -0.01...</td>\n",
       "      <td>0.015000</td>\n",
       "      <td>0.351667</td>\n",
       "      <td>[ 1.          0.98725621  0.95016538 ... -1.19...</td>\n",
       "      <td>0.013333</td>\n",
       "      <td>0.263333</td>\n",
       "    </tr>\n",
       "    <tr>\n",
       "      <th>269</th>\n",
       "      <td>sub-A2004</td>\n",
       "      <td>270</td>\n",
       "      <td>[ 1.          0.99171923  0.96734816 ... -0.01...</td>\n",
       "      <td>0.016667</td>\n",
       "      <td>0.041667</td>\n",
       "      <td>[1.         0.99178445 0.96756315 ... 0.375049...</td>\n",
       "      <td>0.016667</td>\n",
       "      <td>0.033333</td>\n",
       "    </tr>\n",
       "    <tr>\n",
       "      <th>270</th>\n",
       "      <td>sub-A2004</td>\n",
       "      <td>271</td>\n",
       "      <td>[ 1.          0.99140437  0.96611658 ... -0.32...</td>\n",
       "      <td>0.016667</td>\n",
       "      <td>0.035000</td>\n",
       "      <td>[1.         0.99110044 0.96495064 ... 0.241846...</td>\n",
       "      <td>0.016667</td>\n",
       "      <td>0.033333</td>\n",
       "    </tr>\n",
       "    <tr>\n",
       "      <th>271</th>\n",
       "      <td>sub-A2004</td>\n",
       "      <td>272</td>\n",
       "      <td>[1.         0.98998846 0.96066231 ... 0.008007...</td>\n",
       "      <td>0.016667</td>\n",
       "      <td>0.346667</td>\n",
       "      <td>[1.         0.98951551 0.95888772 ... 0.563044...</td>\n",
       "      <td>0.015000</td>\n",
       "      <td>0.041667</td>\n",
       "    </tr>\n",
       "    <tr>\n",
       "      <th>272</th>\n",
       "      <td>sub-A2004</td>\n",
       "      <td>273</td>\n",
       "      <td>[ 1.          0.99317248  0.97299198 ... -0.03...</td>\n",
       "      <td>0.018333</td>\n",
       "      <td>0.265000</td>\n",
       "      <td>[ 1.          0.99296734  0.97217854 ... -0.00...</td>\n",
       "      <td>0.018333</td>\n",
       "      <td>0.040000</td>\n",
       "    </tr>\n",
       "  </tbody>\n",
       "</table>\n",
       "<p>273 rows × 8 columns</p>\n",
       "</div>"
      ],
      "text/plain": [
       "       Subject  Sensor                                         ACF_Zinnen  \\\n",
       "0    sub-A2004       1  [ 1.00000000e+00  9.90504844e-01  9.62689459e-...   \n",
       "1    sub-A2004       2  [ 1.          0.99110624  0.96506121 ... -0.07...   \n",
       "2    sub-A2004       3  [ 1.          0.9913972   0.9661997  ... -0.21...   \n",
       "3    sub-A2004       4  [ 1.          0.99097473  0.96453989 ... -0.14...   \n",
       "4    sub-A2004       5  [ 1.          0.99162543  0.96704988 ... -0.01...   \n",
       "..         ...     ...                                                ...   \n",
       "268  sub-A2004     269  [ 1.          0.98899351  0.95682109 ... -0.01...   \n",
       "269  sub-A2004     270  [ 1.          0.99171923  0.96734816 ... -0.01...   \n",
       "270  sub-A2004     271  [ 1.          0.99140437  0.96611658 ... -0.32...   \n",
       "271  sub-A2004     272  [1.         0.98998846 0.96066231 ... 0.008007...   \n",
       "272  sub-A2004     273  [ 1.          0.99317248  0.97299198 ... -0.03...   \n",
       "\n",
       "     ACW_50_Zinnen  ACW_0_Zinnen  \\\n",
       "0         0.016667      0.395000   \n",
       "1         0.018333      0.361667   \n",
       "2         0.018333      0.398333   \n",
       "3         0.016667      0.471667   \n",
       "4         0.018333      0.468333   \n",
       "..             ...           ...   \n",
       "268       0.015000      0.351667   \n",
       "269       0.016667      0.041667   \n",
       "270       0.016667      0.035000   \n",
       "271       0.016667      0.346667   \n",
       "272       0.018333      0.265000   \n",
       "\n",
       "                                           ACF_Woorden  ACW_50_Woorden  \\\n",
       "0    [ 1.          0.98957351  0.95919365 ... -1.02...        0.016667   \n",
       "1    [ 1.          0.99033796  0.96210035 ...  0.00...        0.016667   \n",
       "2    [ 1.          0.99071471  0.96354885 ... -0.08...        0.018333   \n",
       "3    [1.         0.99063727 0.96321899 ... 0.081492...        0.016667   \n",
       "4    [1.         0.99126763 0.96565904 ... 0.058078...        0.018333   \n",
       "..                                                 ...             ...   \n",
       "268  [ 1.          0.98725621  0.95016538 ... -1.19...        0.013333   \n",
       "269  [1.         0.99178445 0.96756315 ... 0.375049...        0.016667   \n",
       "270  [1.         0.99110044 0.96495064 ... 0.241846...        0.016667   \n",
       "271  [1.         0.98951551 0.95888772 ... 0.563044...        0.015000   \n",
       "272  [ 1.          0.99296734  0.97217854 ... -0.00...        0.018333   \n",
       "\n",
       "     ACW_0_Woorden  \n",
       "0         0.343333  \n",
       "1         0.351667  \n",
       "2         0.351667  \n",
       "3         0.328333  \n",
       "4         0.266667  \n",
       "..             ...  \n",
       "268       0.263333  \n",
       "269       0.033333  \n",
       "270       0.033333  \n",
       "271       0.041667  \n",
       "272       0.040000  \n",
       "\n",
       "[273 rows x 8 columns]"
      ]
     },
     "execution_count": 186,
     "metadata": {},
     "output_type": "execute_result"
    }
   ],
   "source": [
    "df_acf_loaded"
   ]
  },
  {
   "cell_type": "code",
   "execution_count": null,
   "metadata": {},
   "outputs": [],
   "source": [
    "#in case you want to add a new subjet to the dataframe its better to concatenate it "
   ]
  }
 ],
 "metadata": {
  "kernelspec": {
   "display_name": "env_meg",
   "language": "python",
   "name": "python3"
  },
  "language_info": {
   "codemirror_mode": {
    "name": "ipython",
    "version": 3
   },
   "file_extension": ".py",
   "mimetype": "text/x-python",
   "name": "python",
   "nbconvert_exporter": "python",
   "pygments_lexer": "ipython3",
   "version": "3.13.2"
  }
 },
 "nbformat": 4,
 "nbformat_minor": 2
}
